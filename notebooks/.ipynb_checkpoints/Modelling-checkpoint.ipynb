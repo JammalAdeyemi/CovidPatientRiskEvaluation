{
 "cells": [
  {
   "cell_type": "code",
   "execution_count": 32,
   "id": "4ed46680-b498-4ccf-9e35-9c5bb2098cdd",
   "metadata": {},
   "outputs": [],
   "source": [
    "import pandas as pd\n",
    "import numpy as np\n",
    "import matplotlib.pyplot as plt\n",
    "import seaborn as sns\n",
    "from scipy.stats import uniform as sp_randFloat\n",
    "from scipy.stats import randint as sp_randInt\n",
    "\n",
    "import warnings\n",
    "warnings.filterwarnings(\"ignore\")\n",
    "\n",
    "from sklearn.model_selection import train_test_split, cross_val_score, RandomizedSearchCV, GridSearchCV, KFold, StratifiedKFold\n",
    "from sklearn.feature_selection import SelectKBest, chi2, f_classif\n",
    "from sklearn.preprocessing import RobustScaler, StandardScaler,MinMaxScaler\n",
    "from imblearn.under_sampling import RandomUnderSampler\n",
    "import joblib\n",
    "from sklearn.metrics import confusion_matrix, f1_score, r2_score, classification_report, accuracy_score\n",
    "from optuna.samplers import TPESampler\n",
    "\n",
    "\n",
    "## Display all rows and columns of a dataframe instead of a truncated version\n",
    "from IPython.display import display\n",
    "pd.set_option('display.max_columns', None)\n",
    "pd.set_option('display.max_rows', None)"
   ]
  },
  {
   "cell_type": "code",
   "execution_count": 2,
   "id": "f1439db9-4a6d-45a0-b1fc-55e1aff6874a",
   "metadata": {},
   "outputs": [
    {
     "data": {
      "text/html": [
       "<div>\n",
       "<style scoped>\n",
       "    .dataframe tbody tr th:only-of-type {\n",
       "        vertical-align: middle;\n",
       "    }\n",
       "\n",
       "    .dataframe tbody tr th {\n",
       "        vertical-align: top;\n",
       "    }\n",
       "\n",
       "    .dataframe thead th {\n",
       "        text-align: right;\n",
       "    }\n",
       "</style>\n",
       "<table border=\"1\" class=\"dataframe\">\n",
       "  <thead>\n",
       "    <tr style=\"text-align: right;\">\n",
       "      <th></th>\n",
       "      <th>USMER</th>\n",
       "      <th>MEDICAL_UNIT</th>\n",
       "      <th>SEX</th>\n",
       "      <th>PATIENT_TYPE</th>\n",
       "      <th>PNEUMONIA</th>\n",
       "      <th>AGE</th>\n",
       "      <th>PREGNANT</th>\n",
       "      <th>DIABETES</th>\n",
       "      <th>COPD</th>\n",
       "      <th>ASTHMA</th>\n",
       "      <th>INMSUPR</th>\n",
       "      <th>HIPERTENSION</th>\n",
       "      <th>OTHER_DISEASE</th>\n",
       "      <th>CARDIOVASCULAR</th>\n",
       "      <th>OBESITY</th>\n",
       "      <th>RENAL_CHRONIC</th>\n",
       "      <th>TOBACCO</th>\n",
       "      <th>DEATH</th>\n",
       "      <th>INFECTED</th>\n",
       "    </tr>\n",
       "  </thead>\n",
       "  <tbody>\n",
       "    <tr>\n",
       "      <th>0</th>\n",
       "      <td>2</td>\n",
       "      <td>1</td>\n",
       "      <td>1</td>\n",
       "      <td>1</td>\n",
       "      <td>1</td>\n",
       "      <td>65</td>\n",
       "      <td>2</td>\n",
       "      <td>2</td>\n",
       "      <td>2</td>\n",
       "      <td>2</td>\n",
       "      <td>2</td>\n",
       "      <td>1</td>\n",
       "      <td>2</td>\n",
       "      <td>2</td>\n",
       "      <td>2</td>\n",
       "      <td>2</td>\n",
       "      <td>2</td>\n",
       "      <td>1</td>\n",
       "      <td>1</td>\n",
       "    </tr>\n",
       "    <tr>\n",
       "      <th>1</th>\n",
       "      <td>2</td>\n",
       "      <td>1</td>\n",
       "      <td>2</td>\n",
       "      <td>1</td>\n",
       "      <td>1</td>\n",
       "      <td>72</td>\n",
       "      <td>2</td>\n",
       "      <td>2</td>\n",
       "      <td>2</td>\n",
       "      <td>2</td>\n",
       "      <td>2</td>\n",
       "      <td>1</td>\n",
       "      <td>2</td>\n",
       "      <td>2</td>\n",
       "      <td>1</td>\n",
       "      <td>1</td>\n",
       "      <td>2</td>\n",
       "      <td>1</td>\n",
       "      <td>2</td>\n",
       "    </tr>\n",
       "    <tr>\n",
       "      <th>2</th>\n",
       "      <td>2</td>\n",
       "      <td>1</td>\n",
       "      <td>2</td>\n",
       "      <td>2</td>\n",
       "      <td>2</td>\n",
       "      <td>55</td>\n",
       "      <td>2</td>\n",
       "      <td>1</td>\n",
       "      <td>2</td>\n",
       "      <td>2</td>\n",
       "      <td>2</td>\n",
       "      <td>2</td>\n",
       "      <td>2</td>\n",
       "      <td>2</td>\n",
       "      <td>2</td>\n",
       "      <td>2</td>\n",
       "      <td>2</td>\n",
       "      <td>1</td>\n",
       "      <td>1</td>\n",
       "    </tr>\n",
       "    <tr>\n",
       "      <th>3</th>\n",
       "      <td>2</td>\n",
       "      <td>1</td>\n",
       "      <td>1</td>\n",
       "      <td>1</td>\n",
       "      <td>2</td>\n",
       "      <td>53</td>\n",
       "      <td>2</td>\n",
       "      <td>2</td>\n",
       "      <td>2</td>\n",
       "      <td>2</td>\n",
       "      <td>2</td>\n",
       "      <td>2</td>\n",
       "      <td>2</td>\n",
       "      <td>2</td>\n",
       "      <td>2</td>\n",
       "      <td>2</td>\n",
       "      <td>2</td>\n",
       "      <td>1</td>\n",
       "      <td>2</td>\n",
       "    </tr>\n",
       "    <tr>\n",
       "      <th>4</th>\n",
       "      <td>2</td>\n",
       "      <td>1</td>\n",
       "      <td>2</td>\n",
       "      <td>1</td>\n",
       "      <td>2</td>\n",
       "      <td>68</td>\n",
       "      <td>2</td>\n",
       "      <td>1</td>\n",
       "      <td>2</td>\n",
       "      <td>2</td>\n",
       "      <td>2</td>\n",
       "      <td>1</td>\n",
       "      <td>2</td>\n",
       "      <td>2</td>\n",
       "      <td>2</td>\n",
       "      <td>2</td>\n",
       "      <td>2</td>\n",
       "      <td>1</td>\n",
       "      <td>1</td>\n",
       "    </tr>\n",
       "  </tbody>\n",
       "</table>\n",
       "</div>"
      ],
      "text/plain": [
       "   USMER  MEDICAL_UNIT  SEX  PATIENT_TYPE  PNEUMONIA  AGE  PREGNANT  DIABETES  \\\n",
       "0      2             1    1             1          1   65         2         2   \n",
       "1      2             1    2             1          1   72         2         2   \n",
       "2      2             1    2             2          2   55         2         1   \n",
       "3      2             1    1             1          2   53         2         2   \n",
       "4      2             1    2             1          2   68         2         1   \n",
       "\n",
       "   COPD  ASTHMA  INMSUPR  HIPERTENSION  OTHER_DISEASE  CARDIOVASCULAR  \\\n",
       "0     2       2        2             1              2               2   \n",
       "1     2       2        2             1              2               2   \n",
       "2     2       2        2             2              2               2   \n",
       "3     2       2        2             2              2               2   \n",
       "4     2       2        2             1              2               2   \n",
       "\n",
       "   OBESITY  RENAL_CHRONIC  TOBACCO  DEATH  INFECTED  \n",
       "0        2              2        2      1         1  \n",
       "1        1              1        2      1         2  \n",
       "2        2              2        2      1         1  \n",
       "3        2              2        2      1         2  \n",
       "4        2              2        2      1         1  "
      ]
     },
     "execution_count": 2,
     "metadata": {},
     "output_type": "execute_result"
    }
   ],
   "source": [
    "df = pd.read_csv('../Data/Covid-19.csv')\n",
    "df.head()"
   ]
  },
  {
   "cell_type": "code",
   "execution_count": 3,
   "id": "a1fe8a85-57c4-416f-9c4f-0afc50c70555",
   "metadata": {},
   "outputs": [],
   "source": [
    "# Splitting the datasets and choosing 10 columns that are correlated with the DEATH Column\n",
    "X = SelectKBest(k=14, score_func=f_classif).fit_transform(df.drop(['DEATH'],axis=1), df['DEATH'])\n",
    "y = df['DEATH']"
   ]
  },
  {
   "cell_type": "code",
   "execution_count": 4,
   "id": "552d199f-1cc8-477d-8074-93939772dbf8",
   "metadata": {},
   "outputs": [],
   "source": [
    "# # Scaling the numeric feature\n",
    "# scaler = RobustScaler()\n",
    "# df['AGE'] = scaler.fit_transform(df.AGE.values.reshape(-1,1))\n",
    "# df['MEDICAL_UNIT'] = scaler.fit_transform(df.MEDICAL_UNIT.values.reshape(-1,1))\n",
    "# df.head()\n",
    "scaler = RobustScaler()\n",
    "X = scaler.fit_transform(X)"
   ]
  },
  {
   "cell_type": "code",
   "execution_count": 5,
   "id": "9dfab110-bc55-44bf-a59a-c9e99a903eec",
   "metadata": {},
   "outputs": [
    {
     "name": "stdout",
     "output_type": "stream",
     "text": [
      "X_train : (119451, 14)\n",
      "X_test : (29863, 14)\n",
      "y_train : (119451,)\n",
      "y_test : (29863,)\n"
     ]
    }
   ],
   "source": [
    "# Splitting the data into train and test, since the data is imbalance I would Undersample the majority class\n",
    "rus = RandomUnderSampler(random_state=42)\n",
    "X_resampled, y_resampled = rus.fit_resample(X,y)\n",
    "X_train, X_test, y_train, y_test = train_test_split(X_resampled, y_resampled, test_size=0.2, random_state=42)\n",
    "print(\"X_train :\",X_train.shape)\n",
    "print(\"X_test :\",X_test.shape)\n",
    "print(\"y_train :\",y_train.shape)\n",
    "print(\"y_test :\",y_test.shape)"
   ]
  },
  {
   "cell_type": "code",
   "execution_count": 6,
   "id": "1f4a09a3-586b-4ca4-98cd-600261636a59",
   "metadata": {},
   "outputs": [],
   "source": [
    "# plt.figure()\n",
    "# sns.barplot(y_resampled.value_counts().index,y_resampled.value_counts().values).set(title=\"DEATHS Counts\",xticklabels=([\"Dead\",\"Alive\"]),ylabel=\"Value\")\n",
    "# # plt.savefig(\"myfirstplot.jpeg\")\n",
    "# plt.show()"
   ]
  },
  {
   "cell_type": "code",
   "execution_count": 7,
   "id": "45d14170-3c17-4f93-ad76-cb3d4191e3f4",
   "metadata": {},
   "outputs": [],
   "source": [
    "# # Export splitted data\n",
    "# pd.DataFrame(X_train).to_csv(\"../Data/features/X_train.csv\", index=False)\n",
    "# pd.DataFrame(X_test).to_csv(\"../Data/features/X_test.csv\", index=False)\n",
    "# pd.DataFrame(y_train).to_csv(\"../Data/features/y_train.csv\", index=False)\n",
    "# pd.DataFrame(y_test).to_csv(\"../Data/features/y_test.csv\", index=False)"
   ]
  },
  {
   "cell_type": "markdown",
   "id": "b80a9e01-7a09-4d8b-a1e5-7039621f1e37",
   "metadata": {},
   "source": [
    "## Models"
   ]
  },
  {
   "cell_type": "code",
   "execution_count": 8,
   "id": "922e2043-2d20-4eba-9b60-eff749d70931",
   "metadata": {},
   "outputs": [],
   "source": [
    "from sklearn.linear_model import LogisticRegression\n",
    "from sklearn.neighbors import KNeighborsClassifier\n",
    "from sklearn.ensemble import AdaBoostClassifier,GradientBoostingClassifier,RandomForestClassifier\n",
    "from xgboost import XGBClassifier \n",
    "from sklearn.tree import DecisionTreeClassifier\n",
    "from sklearn.svm import SVC\n",
    "from sklearn.model_selection import cross_val_score,GridSearchCV\n",
    "from sklearn import metrics"
   ]
  },
  {
   "cell_type": "code",
   "execution_count": 9,
   "id": "32baa34c-6366-4de8-86e2-a377ad58b41c",
   "metadata": {},
   "outputs": [],
   "source": [
    "models = {\"Logistic Regression\": LogisticRegression(),\n",
    "         \"KNN\": KNeighborsClassifier(),\n",
    "         \"Random Forest\": RandomForestClassifier(),\n",
    "          \"Gradient Boosting\": GradientBoostingClassifier(),\n",
    "          \"Decision Tree\": DecisionTreeClassifier(),\n",
    "          \"XGB Classifier\": XGBClassifier()\n",
    "         }\n",
    "\n",
    "# Creating a function to fit and score the models\n",
    "def fit_and_score(models, X_train, X_test, y_train, y_test):\n",
    "    model_scores = {}\n",
    "    for name, model in models.items():\n",
    "        model.fit(X_train, y_train)\n",
    "        model_scores[name] = model.score(X_test, y_test)\n",
    "    return model_scores"
   ]
  },
  {
   "cell_type": "code",
   "execution_count": 10,
   "id": "7d18703c-a693-4250-8ef5-568941e5687f",
   "metadata": {},
   "outputs": [
    {
     "name": "stdout",
     "output_type": "stream",
     "text": [
      "[21:56:01] WARNING: ..\\src\\learner.cc:1115: Starting in XGBoost 1.3.0, the default evaluation metric used with the objective 'binary:logistic' was changed from 'error' to 'logloss'. Explicitly set eval_metric if you'd like to restore the old behavior.\n"
     ]
    },
    {
     "data": {
      "text/plain": [
       "{'Logistic Regression': 0.9050999564678699,\n",
       " 'KNN': 0.9027559186953755,\n",
       " 'Random Forest': 0.8979004118809228,\n",
       " 'Gradient Boosting': 0.9147774838428825,\n",
       " 'Decision Tree': 0.8892274721226936,\n",
       " 'XGB Classifier': 0.9143086762883836}"
      ]
     },
     "execution_count": 10,
     "metadata": {},
     "output_type": "execute_result"
    }
   ],
   "source": [
    "model_scores = fit_and_score(models = models,\n",
    "                            X_train = X_train,\n",
    "                            X_test = X_test,\n",
    "                            y_train = y_train,\n",
    "                            y_test = y_test)\n",
    "model_scores"
   ]
  },
  {
   "cell_type": "markdown",
   "id": "92182da3-8c50-475a-9b1a-c53e1e970b9c",
   "metadata": {},
   "source": [
    "**We would proceed by hyper-tuning using randomgridcv on Logistic Regression, Gradient Boosting, XGB Classifier. My computer couldn't handle the work load**"
   ]
  },
  {
   "cell_type": "markdown",
   "id": "633f6af3-9fe8-4376-9024-e064faa1ab83",
   "metadata": {},
   "source": [
    "## Logistic Regression"
   ]
  },
  {
   "cell_type": "code",
   "execution_count": 11,
   "id": "bbe8c27f-8a1f-433c-a22f-da21d027b56b",
   "metadata": {},
   "outputs": [
    {
     "name": "stdout",
     "output_type": "stream",
     "text": [
      "Logistic Regression Accuracy:  0.9050999564678699\n"
     ]
    }
   ],
   "source": [
    "lr = LogisticRegression()\n",
    "lr.fit(X_train,y_train)\n",
    "print(\"Logistic Regression Accuracy: \",lr.score(X_test,y_test))"
   ]
  },
  {
   "cell_type": "code",
   "execution_count": 12,
   "id": "9122b6e0-0483-492c-b730-bdad2f961b39",
   "metadata": {},
   "outputs": [
    {
     "name": "stdout",
     "output_type": "stream",
     "text": [
      "Logistic Regression F1 Score:  [0.90614029 0.9040363 ]\n",
      "Logistic Regression R2 Score:  0.6203967504764767\n"
     ]
    },
    {
     "data": {
      "image/png": "[encoded data removed]",
      "text/plain": [
       "<Figure size 432x288 with 2 Axes>"
      ]
     },
     "metadata": {
      "needs_background": "light"
     },
     "output_type": "display_data"
    }
   ],
   "source": [
    "print(\"Logistic Regression F1 Score: \", f1_score(y_test,lr.predict(X_test),average=None))\n",
    "print(\"Logistic Regression R2 Score: \", r2_score(y_test,lr.predict(X_test)))\n",
    "plt.figure()\n",
    "sns.heatmap(confusion_matrix(y_test, lr.predict(X_test)), annot=True, fmt=\".0f\")\n",
    "plt.title(\"Logistic Regression Confusion Matrix\",fontsize=18, color=\"b\")\n",
    "# plt.savefig(\"../Images/plots/log_reg_conf_matrix.jpeg\")\n",
    "plt.show()"
   ]
  },
  {
   "cell_type": "code",
   "execution_count": 13,
   "id": "8b261941-4a3a-4d8e-8c3a-36442b031e59",
   "metadata": {},
   "outputs": [
    {
     "name": "stdout",
     "output_type": "stream",
     "text": [
      "              precision    recall  f1-score   support\n",
      "\n",
      "           1       0.89      0.92      0.91     14889\n",
      "           2       0.92      0.89      0.90     14974\n",
      "\n",
      "    accuracy                           0.91     29863\n",
      "   macro avg       0.91      0.91      0.91     29863\n",
      "weighted avg       0.91      0.91      0.91     29863\n",
      "\n"
     ]
    }
   ],
   "source": [
    "y_preds = lr.predict(X_test)\n",
    "print(classification_report(y_test, y_preds))"
   ]
  },
  {
   "cell_type": "markdown",
   "id": "5a47c32a-a873-4f54-a355-068aa098ac4d",
   "metadata": {},
   "source": [
    "### Grid Search Cross Validation with Logistic Regression"
   ]
  },
  {
   "cell_type": "code",
   "execution_count": 14,
   "id": "aeeae842-49ef-43a0-8a86-9eda08900bba",
   "metadata": {},
   "outputs": [
    {
     "name": "stdout",
     "output_type": "stream",
     "text": [
      "Fitting 10 folds for each of 14 candidates, totalling 140 fits\n",
      "Optimized hyperparameters:  {'C': 0.001, 'penalty': 'l2'}\n",
      "accuracy:  0.9070581548880104\n"
     ]
    }
   ],
   "source": [
    "grid = {\"C\":np.logspace(-3,3,7),\"penalty\":[\"l1\",\"l2\"]}\n",
    "logreg = LogisticRegression(random_state=42)\n",
    "logreg_cv = GridSearchCV(logreg,\n",
    "                         grid,\n",
    "                         cv=10,\n",
    "                         n_jobs=-1,\n",
    "                         verbose=1,\n",
    "                        )\n",
    "logreg_cv.fit(X_train,y_train)\n",
    "\n",
    "print(\"Optimized hyperparameters: \",logreg_cv.best_params_)\n",
    "print(\"accuracy: \",logreg_cv.best_score_)"
   ]
  },
  {
   "cell_type": "code",
   "execution_count": 15,
   "id": "c0c1a152-8e80-48a8-a0a2-bb3aefbc4412",
   "metadata": {},
   "outputs": [
    {
     "name": "stdout",
     "output_type": "stream",
     "text": [
      "Logistic Regression F1 Score:  [0.90674794 0.90470226]\n",
      "Logistic Regression R2 Score:  0.6229417263907135\n"
     ]
    },
    {
     "data": {
      "image/png": "[encoded data removed]",
      "text/plain": [
       "<Figure size 432x288 with 2 Axes>"
      ]
     },
     "metadata": {
      "needs_background": "light"
     },
     "output_type": "display_data"
    }
   ],
   "source": [
    "print(\"Logistic Regression F1 Score: \", f1_score(y_test,logreg_cv.predict(X_test),average=None))\n",
    "print(\"Logistic Regression R2 Score: \", r2_score(y_test,logreg_cv.predict(X_test)))\n",
    "plt.figure()\n",
    "sns.heatmap(confusion_matrix(y_test, logreg_cv.predict(X_test)), annot=True, fmt=\".0f\")\n",
    "plt.title(\"Logistic Regression Confusion Matrix\",fontsize=18, color=\"b\")\n",
    "# plt.savefig(\"../Images/plots/log_reg_cv_conf_matrix.jpeg\")\n",
    "plt.show()"
   ]
  },
  {
   "cell_type": "code",
   "execution_count": 16,
   "id": "8df16f26-830f-469d-9ed1-924121bc0e37",
   "metadata": {},
   "outputs": [
    {
     "name": "stdout",
     "output_type": "stream",
     "text": [
      "              precision    recall  f1-score   support\n",
      "\n",
      "           1       0.89      0.92      0.91     14889\n",
      "           2       0.92      0.89      0.90     14974\n",
      "\n",
      "    accuracy                           0.91     29863\n",
      "   macro avg       0.91      0.91      0.91     29863\n",
      "weighted avg       0.91      0.91      0.91     29863\n",
      "\n"
     ]
    }
   ],
   "source": [
    "y_preds = logreg_cv.predict(X_test)\n",
    "print(classification_report(y_test, y_preds))"
   ]
  },
  {
   "cell_type": "code",
   "execution_count": 17,
   "id": "d20a2215-7698-4e5c-a4c2-c02551f3bbde",
   "metadata": {},
   "outputs": [],
   "source": [
    "## Save the model as a pickle in a file\n",
    "# joblib.dump(logreg_cv, '../Models/Logreg_cv.pkl')"
   ]
  },
  {
   "cell_type": "markdown",
   "id": "9a12b9e9-b8b6-4cbd-b3bf-5ec08b1793e8",
   "metadata": {},
   "source": [
    "## Gradient Boosting Classifier"
   ]
  },
  {
   "cell_type": "code",
   "execution_count": 18,
   "id": "218cd7c4-301a-4dc5-8ba8-76a8c5665e17",
   "metadata": {},
   "outputs": [
    {
     "name": "stdout",
     "output_type": "stream",
     "text": [
      "Gradient Boosting Classifier Accuracy:  0.9147774838428825\n"
     ]
    }
   ],
   "source": [
    "gb = GradientBoostingClassifier()\n",
    "gb.fit(X_train,y_train)\n",
    "print(\"Gradient Boosting Classifier Accuracy: \",gb.score(X_test,y_test))"
   ]
  },
  {
   "cell_type": "code",
   "execution_count": 19,
   "id": "1e5beb90-627d-4231-a86c-e7973227db7a",
   "metadata": {},
   "outputs": [
    {
     "name": "stdout",
     "output_type": "stream",
     "text": [
      "Gradient Boosting Classifier F1 Score:  [0.91743179 0.91194686]\n",
      "Gradient Boosting Classifier R2 Score:  0.6591071735930252\n"
     ]
    },
    {
     "data": {
      "image/png": "[encoded data removed]",
      "text/plain": [
       "<Figure size 432x288 with 2 Axes>"
      ]
     },
     "metadata": {
      "needs_background": "light"
     },
     "output_type": "display_data"
    }
   ],
   "source": [
    "print(\"Gradient Boosting Classifier F1 Score: \", f1_score(y_test,gb.predict(X_test),average=None))\n",
    "print(\"Gradient Boosting Classifier R2 Score: \", r2_score(y_test,gb.predict(X_test)))\n",
    "plt.figure()\n",
    "sns.heatmap(confusion_matrix(y_test, gb.predict(X_test)), annot=True, fmt=\".0f\")\n",
    "plt.title(\"Gradient Boosting Classifier Confusion Matrix\",fontsize=18, color=\"b\")\n",
    "# plt.savefig(\"../Images/plots/grad_boost_conf_matrix.jpeg\")\n",
    "plt.show()"
   ]
  },
  {
   "cell_type": "code",
   "execution_count": 20,
   "id": "2e7f66d8-02b0-403b-bc57-69d775d24ea0",
   "metadata": {},
   "outputs": [
    {
     "name": "stdout",
     "output_type": "stream",
     "text": [
      "              precision    recall  f1-score   support\n",
      "\n",
      "           1       0.89      0.95      0.92     14889\n",
      "           2       0.95      0.88      0.91     14974\n",
      "\n",
      "    accuracy                           0.91     29863\n",
      "   macro avg       0.92      0.91      0.91     29863\n",
      "weighted avg       0.92      0.91      0.91     29863\n",
      "\n"
     ]
    }
   ],
   "source": [
    "y_preds = gb.predict(X_test)\n",
    "print(classification_report(y_test, y_preds))"
   ]
  },
  {
   "cell_type": "code",
   "execution_count": 21,
   "id": "4f0cd1df-859e-44c6-85ee-f9fba1a6daac",
   "metadata": {},
   "outputs": [],
   "source": [
    "# # Save the model as a pickle in a file\n",
    "# joblib.dump(gb, '../Models/gradboostclassifier.pkl')"
   ]
  },
  {
   "cell_type": "markdown",
   "id": "7b800a25-bf00-4386-96a0-0fd271b7a7df",
   "metadata": {},
   "source": [
    "## XGBoost Classifier"
   ]
  },
  {
   "cell_type": "code",
   "execution_count": 22,
   "id": "68d2ad91-e16c-4d4d-a690-87496c842d9a",
   "metadata": {},
   "outputs": [
    {
     "name": "stdout",
     "output_type": "stream",
     "text": [
      "[21:57:10] WARNING: ..\\src\\learner.cc:1115: Starting in XGBoost 1.3.0, the default evaluation metric used with the objective 'binary:logistic' was changed from 'error' to 'logloss'. Explicitly set eval_metric if you'd like to restore the old behavior.\n",
      "XGB Classifier Accuracy:  0.9143086762883836\n"
     ]
    }
   ],
   "source": [
    "xgb = XGBClassifier()\n",
    "xgb.fit(X_train, y_train)\n",
    "print(\"XGB Classifier Accuracy: \",xgb.score(X_test,y_test))"
   ]
  },
  {
   "cell_type": "code",
   "execution_count": 37,
   "id": "3e33ec26-5b27-459d-aa66-5d3ac5a2cd7e",
   "metadata": {},
   "outputs": [
    {
     "name": "stdout",
     "output_type": "stream",
     "text": [
      "XGB Classifier F1 Score:  [0.91711741 0.9113029 ]\n",
      "XGB Classifier R2 Score:  0.657231928182535\n"
     ]
    },
    {
     "data": {
      "image/png": "[encoded data removed]",
      "text/plain": [
       "<Figure size 432x288 with 2 Axes>"
      ]
     },
     "metadata": {
      "needs_background": "light"
     },
     "output_type": "display_data"
    }
   ],
   "source": [
    "print(\"XGB Classifier F1 Score: \", f1_score(y_test,xgb.predict(X_test),average=None))\n",
    "print(\"XGB Classifier R2 Score: \", r2_score(y_test,xgb.predict(X_test)))\n",
    "plt.figure()\n",
    "sns.heatmap(confusion_matrix(y_test, xgb.predict(X_test)), annot=True, fmt=\".0f\")\n",
    "plt.title(\"XGB Classifier Confusion Matrix\",fontsize=18, color=\"b\")\n",
    "plt.savefig(\"../Images/plots/XGB_class_conf_matrix.jpeg\")\n",
    "plt.show()"
   ]
  },
  {
   "cell_type": "code",
   "execution_count": 24,
   "id": "9d0f7538-9066-49b6-8302-753f28c5bc7f",
   "metadata": {},
   "outputs": [
    {
     "name": "stdout",
     "output_type": "stream",
     "text": [
      "              precision    recall  f1-score   support\n",
      "\n",
      "           1       0.89      0.95      0.92     14889\n",
      "           2       0.95      0.88      0.91     14974\n",
      "\n",
      "    accuracy                           0.91     29863\n",
      "   macro avg       0.92      0.91      0.91     29863\n",
      "weighted avg       0.92      0.91      0.91     29863\n",
      "\n"
     ]
    }
   ],
   "source": [
    "y_preds = xgb.predict(X_test)\n",
    "print(classification_report(y_test, y_preds))"
   ]
  },
  {
   "cell_type": "code",
   "execution_count": 25,
   "id": "baba151d-8b15-42fb-bc9c-1a01819baf91",
   "metadata": {},
   "outputs": [],
   "source": [
    "# # Save the model as a pickle in a file\n",
    "# joblib.dump(xgb, '../Models/XGBclassifier.pkl')"
   ]
  },
  {
   "cell_type": "markdown",
   "id": "8a278a66-977d-4985-91d6-6238d2a9201f",
   "metadata": {},
   "source": [
    "## AdaBoost Classifier"
   ]
  },
  {
   "cell_type": "code",
   "execution_count": 26,
   "id": "250b8be2-4cfb-44ed-a908-dff579bf156a",
   "metadata": {},
   "outputs": [
    {
     "name": "stdout",
     "output_type": "stream",
     "text": [
      "ada_boost Accuracy:  0.9003783946689884\n"
     ]
    }
   ],
   "source": [
    "ada_boost = AdaBoostClassifier()\n",
    "ada_boost.fit(X_train, y_train)\n",
    "print(\"ada_boost Accuracy: \",ada_boost.score(X_test,y_test))"
   ]
  },
  {
   "cell_type": "code",
   "execution_count": 36,
   "id": "aa5724ff-1611-4859-958d-e6f68b4a83ff",
   "metadata": {},
   "outputs": [
    {
     "name": "stdout",
     "output_type": "stream",
     "text": [
      "AdaBoost Classifier F1 Score:  [0.90047837 0.90027822]\n",
      "AdaBoost Classifier R2 Score:  0.6015103502708251\n"
     ]
    },
    {
     "data": {
      "image/png": "[encoded data removed]",
      "text/plain": [
       "<Figure size 432x288 with 2 Axes>"
      ]
     },
     "metadata": {
      "needs_background": "light"
     },
     "output_type": "display_data"
    }
   ],
   "source": [
    "print(\"AdaBoost Classifier F1 Score: \", f1_score(y_test,ada_boost.predict(X_test),average=None))\n",
    "print(\"AdaBoost Classifier R2 Score: \", r2_score(y_test,ada_boost.predict(X_test)))\n",
    "plt.figure()\n",
    "sns.heatmap(confusion_matrix(y_test, ada_boost.predict(X_test)), annot=True, fmt=\".0f\")\n",
    "plt.title(\"AdaBoost Classifier Confusion Matrix\",fontsize=18, color=\"b\")\n",
    "plt.savefig(\"../Images/plots/adaboost_class_conf_matrix.jpeg\")\n",
    "plt.show()"
   ]
  },
  {
   "cell_type": "code",
   "execution_count": 28,
   "id": "d41d1e9a-155b-471d-bf53-667b06f0a468",
   "metadata": {},
   "outputs": [
    {
     "name": "stdout",
     "output_type": "stream",
     "text": [
      "              precision    recall  f1-score   support\n",
      "\n",
      "           1       0.90      0.90      0.90     14889\n",
      "           2       0.90      0.90      0.90     14974\n",
      "\n",
      "    accuracy                           0.90     29863\n",
      "   macro avg       0.90      0.90      0.90     29863\n",
      "weighted avg       0.90      0.90      0.90     29863\n",
      "\n"
     ]
    }
   ],
   "source": [
    "y_preds = ada_boost.predict(X_test)\n",
    "print(classification_report(y_test, y_preds))"
   ]
  },
  {
   "cell_type": "markdown",
   "id": "443ae1af-ad37-4738-a868-60c288baff77",
   "metadata": {},
   "source": [
    "## Hypertuning Adaboost"
   ]
  },
  {
   "cell_type": "code",
   "execution_count": 29,
   "id": "482c52ba-2ad1-4082-86e8-f57570be4c74",
   "metadata": {},
   "outputs": [],
   "source": [
    "def objective(trial):\n",
    "    n_estimators = trial.suggest_int(\"n_estimators\", 50, 500)\n",
    "    learning_rate = trial.suggest_float(\"learning_rate\", 0.001, 1.0, log=True)\n",
    "    model = AdaBoostClassifier(n_estimators=n_estimators, learning_rate=learning_rate, random_state=1)\n",
    "    model.fit(X_train, y_train)\n",
    "    y_pred = model.predict(X_test)\n",
    "    return accuracy_score(y_test, y_pred)"
   ]
  },
  {
   "cell_type": "code",
   "execution_count": 33,
   "id": "b3fbcbd0-94ea-4dfa-98ed-a88a6c8b41d2",
   "metadata": {},
   "outputs": [
    {
     "name": "stderr",
     "output_type": "stream",
     "text": [
      "\u001b[32m[I 2022-12-31 22:00:54,678]\u001b[0m A new study created in memory with name: no-name-92e2a509-2437-4630-b8d3-d7cb77dfdb6c\u001b[0m\n",
      "\u001b[32m[I 2022-12-31 22:01:35,364]\u001b[0m Trial 0 finished with value: 0.9001774771456317 and parameters: {'n_estimators': 238, 'learning_rate': 0.14486833887239342}. Best is trial 0 with value: 0.9001774771456317.\u001b[0m\n",
      "\u001b[32m[I 2022-12-31 22:01:41,182]\u001b[0m Trial 1 finished with value: 0.8913371061179386 and parameters: {'n_estimators': 50, 'learning_rate': 0.008072307884499755}. Best is trial 0 with value: 0.9001774771456317.\u001b[0m\n",
      "\u001b[32m[I 2022-12-31 22:01:55,150]\u001b[0m Trial 2 finished with value: 0.8913371061179386 and parameters: {'n_estimators': 116, 'learning_rate': 0.0018924123965722254}. Best is trial 0 with value: 0.9001774771456317.\u001b[0m\n",
      "\u001b[32m[I 2022-12-31 22:02:09,514]\u001b[0m Trial 3 finished with value: 0.8913371061179386 and parameters: {'n_estimators': 134, 'learning_rate': 0.010881335003635882}. Best is trial 0 with value: 0.9001774771456317.\u001b[0m\n",
      "\u001b[32m[I 2022-12-31 22:02:39,106]\u001b[0m Trial 4 finished with value: 0.9009141747312728 and parameters: {'n_estimators': 228, 'learning_rate': 0.04134759007834719}. Best is trial 4 with value: 0.9009141747312728.\u001b[0m\n",
      "\u001b[32m[I 2022-12-31 22:03:14,026]\u001b[0m Trial 5 finished with value: 0.9007132572079162 and parameters: {'n_estimators': 239, 'learning_rate': 0.11367330868956228}. Best is trial 4 with value: 0.9009141747312728.\u001b[0m\n",
      "\u001b[32m[I 2022-12-31 22:03:31,651]\u001b[0m Trial 6 finished with value: 0.9012155510163078 and parameters: {'n_estimators': 142, 'learning_rate': 0.43087600478391286}. Best is trial 6 with value: 0.9012155510163078.\u001b[0m\n",
      "\u001b[32m[I 2022-12-31 22:03:38,376]\u001b[0m Trial 7 finished with value: 0.9003783946689884 and parameters: {'n_estimators': 62, 'learning_rate': 0.10266030035164243}. Best is trial 6 with value: 0.9012155510163078.\u001b[0m\n",
      "\u001b[32m[I 2022-12-31 22:04:04,452]\u001b[0m Trial 8 finished with value: 0.9004453671767739 and parameters: {'n_estimators': 238, 'learning_rate': 0.04743178681046319}. Best is trial 6 with value: 0.9012155510163078.\u001b[0m\n",
      "\u001b[32m[I 2022-12-31 22:04:17,874]\u001b[0m Trial 9 finished with value: 0.8913371061179386 and parameters: {'n_estimators': 113, 'learning_rate': 0.003929203002623947}. Best is trial 6 with value: 0.9012155510163078.\u001b[0m\n",
      "\u001b[32m[I 2022-12-31 22:05:30,778]\u001b[0m Trial 10 finished with value: 0.9007467434618089 and parameters: {'n_estimators': 462, 'learning_rate': 0.8622991055819026}. Best is trial 6 with value: 0.9012155510163078.\u001b[0m\n",
      "\u001b[32m[I 2022-12-31 22:06:10,298]\u001b[0m Trial 11 finished with value: 0.9008137159695945 and parameters: {'n_estimators': 350, 'learning_rate': 0.9182660868186429}. Best is trial 6 with value: 0.9012155510163078.\u001b[0m\n",
      "\u001b[32m[I 2022-12-31 22:07:18,453]\u001b[0m Trial 12 finished with value: 0.9003449084150956 and parameters: {'n_estimators': 329, 'learning_rate': 0.2895465415943692}. Best is trial 6 with value: 0.9012155510163078.\u001b[0m\n",
      "\u001b[32m[I 2022-12-31 22:07:37,537]\u001b[0m Trial 13 finished with value: 0.8922412349730435 and parameters: {'n_estimators': 158, 'learning_rate': 0.021509167520971123}. Best is trial 6 with value: 0.9012155510163078.\u001b[0m\n",
      "\u001b[32m[I 2022-12-31 22:08:10,231]\u001b[0m Trial 14 finished with value: 0.9011485785085223 and parameters: {'n_estimators': 204, 'learning_rate': 0.036601799682856415}. Best is trial 6 with value: 0.9012155510163078.\u001b[0m\n",
      "\u001b[32m[I 2022-12-31 22:08:41,638]\u001b[0m Trial 15 finished with value: 0.9006462847001306 and parameters: {'n_estimators': 189, 'learning_rate': 0.2937225261512636}. Best is trial 6 with value: 0.9012155510163078.\u001b[0m\n",
      "\u001b[32m[I 2022-12-31 22:09:30,921]\u001b[0m Trial 16 finished with value: 0.9009811472390584 and parameters: {'n_estimators': 312, 'learning_rate': 0.3595197225203255}. Best is trial 6 with value: 0.9012155510163078.\u001b[0m\n",
      "\u001b[32m[I 2022-12-31 22:10:34,431]\u001b[0m Trial 17 finished with value: 0.8913371061179386 and parameters: {'n_estimators': 400, 'learning_rate': 0.0011381425727273373}. Best is trial 6 with value: 0.9012155510163078.\u001b[0m\n",
      "\u001b[32m[I 2022-12-31 22:10:55,516]\u001b[0m Trial 18 finished with value: 0.8922412349730435 and parameters: {'n_estimators': 186, 'learning_rate': 0.017797568661460976}. Best is trial 6 with value: 0.9012155510163078.\u001b[0m\n",
      "\u001b[32m[I 2022-12-31 22:11:26,409]\u001b[0m Trial 19 finished with value: 0.9006462847001306 and parameters: {'n_estimators': 282, 'learning_rate': 0.08011924659603033}. Best is trial 6 with value: 0.9012155510163078.\u001b[0m\n",
      "\u001b[32m[I 2022-12-31 22:11:37,656]\u001b[0m Trial 20 finished with value: 0.8913371061179386 and parameters: {'n_estimators': 86, 'learning_rate': 0.00479852806243539}. Best is trial 6 with value: 0.9012155510163078.\u001b[0m\n",
      "\u001b[32m[I 2022-12-31 22:12:25,439]\u001b[0m Trial 21 finished with value: 0.900579312192345 and parameters: {'n_estimators': 325, 'learning_rate': 0.37416894056678035}. Best is trial 6 with value: 0.9012155510163078.\u001b[0m\n",
      "\u001b[32m[I 2022-12-31 22:12:58,271]\u001b[0m Trial 22 finished with value: 0.9007132572079162 and parameters: {'n_estimators': 288, 'learning_rate': 0.1991392475704993}. Best is trial 6 with value: 0.9012155510163078.\u001b[0m\n",
      "\u001b[32m[I 2022-12-31 22:13:52,395]\u001b[0m Trial 23 finished with value: 0.9007802297157017 and parameters: {'n_estimators': 398, 'learning_rate': 0.368298162541686}. Best is trial 6 with value: 0.9012155510163078.\u001b[0m\n",
      "\u001b[32m[I 2022-12-31 22:14:21,350]\u001b[0m Trial 24 finished with value: 0.9012490372702006 and parameters: {'n_estimators': 181, 'learning_rate': 0.5744398973098859}. Best is trial 24 with value: 0.9012490372702006.\u001b[0m\n",
      "\u001b[32m[I 2022-12-31 22:14:43,599]\u001b[0m Trial 25 finished with value: 0.9008472022234872 and parameters: {'n_estimators': 182, 'learning_rate': 0.6192804959750645}. Best is trial 24 with value: 0.9012490372702006.\u001b[0m\n",
      "\u001b[32m[I 2022-12-31 22:15:02,537]\u001b[0m Trial 26 finished with value: 0.9012825235240933 and parameters: {'n_estimators': 154, 'learning_rate': 0.06544842927745077}. Best is trial 26 with value: 0.9012825235240933.\u001b[0m\n",
      "\u001b[32m[I 2022-12-31 22:15:30,427]\u001b[0m Trial 27 finished with value: 0.9012490372702006 and parameters: {'n_estimators': 145, 'learning_rate': 0.07042091122649848}. Best is trial 26 with value: 0.9012825235240933.\u001b[0m\n",
      "\u001b[32m[I 2022-12-31 22:15:46,713]\u001b[0m Trial 28 finished with value: 0.901048119746844 and parameters: {'n_estimators': 95, 'learning_rate': 0.06633214860547121}. Best is trial 26 with value: 0.9012825235240933.\u001b[0m\n",
      "\u001b[32m[I 2022-12-31 22:16:13,803]\u001b[0m Trial 29 finished with value: 0.9000435321300606 and parameters: {'n_estimators': 157, 'learning_rate': 0.1557660694192357}. Best is trial 26 with value: 0.9012825235240933.\u001b[0m\n",
      "\u001b[32m[I 2022-12-31 22:16:43,878]\u001b[0m Trial 30 finished with value: 0.8976660081036735 and parameters: {'n_estimators': 263, 'learning_rate': 0.01994138711418002}. Best is trial 26 with value: 0.9012825235240933.\u001b[0m\n",
      "\u001b[32m[I 2022-12-31 22:17:05,097]\u001b[0m Trial 31 finished with value: 0.9013160097779861 and parameters: {'n_estimators': 149, 'learning_rate': 0.5624509792412287}. Best is trial 31 with value: 0.9013160097779861.\u001b[0m\n",
      "\u001b[32m[I 2022-12-31 22:17:26,714]\u001b[0m Trial 32 finished with value: 0.901048119746844 and parameters: {'n_estimators': 158, 'learning_rate': 0.5775834821051691}. Best is trial 31 with value: 0.9013160097779861.\u001b[0m\n",
      "\u001b[32m[I 2022-12-31 22:17:42,395]\u001b[0m Trial 33 finished with value: 0.9005458259384522 and parameters: {'n_estimators': 122, 'learning_rate': 0.20173914055813238}. Best is trial 31 with value: 0.9013160097779861.\u001b[0m\n",
      "\u001b[32m[I 2022-12-31 22:18:08,351]\u001b[0m Trial 34 finished with value: 0.9004118809228812 and parameters: {'n_estimators': 210, 'learning_rate': 0.1991222126836702}. Best is trial 31 with value: 0.9013160097779861.\u001b[0m\n",
      "\u001b[32m[I 2022-12-31 22:18:15,693]\u001b[0m Trial 35 finished with value: 0.8913371061179386 and parameters: {'n_estimators': 68, 'learning_rate': 0.010092483412844737}. Best is trial 31 with value: 0.9013160097779861.\u001b[0m\n",
      "\u001b[32m[I 2022-12-31 22:18:26,216]\u001b[0m Trial 36 finished with value: 0.8991394032749557 and parameters: {'n_estimators': 100, 'learning_rate': 0.06075210902519444}. Best is trial 31 with value: 0.9013160097779861.\u001b[0m\n",
      "\u001b[32m[I 2022-12-31 22:18:40,578]\u001b[0m Trial 37 finished with value: 0.896828851756354 and parameters: {'n_estimators': 138, 'learning_rate': 0.030265746561681378}. Best is trial 31 with value: 0.9013160097779861.\u001b[0m\n",
      "\u001b[32m[I 2022-12-31 22:18:58,266]\u001b[0m Trial 38 finished with value: 0.9003449084150956 and parameters: {'n_estimators': 166, 'learning_rate': 0.12654478478271333}. Best is trial 31 with value: 0.9013160097779861.\u001b[0m\n",
      "\u001b[32m[I 2022-12-31 22:19:30,648]\u001b[0m Trial 39 finished with value: 0.901048119746844 and parameters: {'n_estimators': 212, 'learning_rate': 0.588813044258981}. Best is trial 31 with value: 0.9013160097779861.\u001b[0m\n",
      "\u001b[32m[I 2022-12-31 22:19:37,609]\u001b[0m Trial 40 finished with value: 0.8969293105180324 and parameters: {'n_estimators': 50, 'learning_rate': 0.09265590960264815}. Best is trial 31 with value: 0.9013160097779861.\u001b[0m\n",
      "\u001b[32m[I 2022-12-31 22:19:54,661]\u001b[0m Trial 41 finished with value: 0.9013494960318789 and parameters: {'n_estimators': 120, 'learning_rate': 0.5748335028625987}. Best is trial 41 with value: 0.9013494960318789.\u001b[0m\n",
      "\u001b[32m[I 2022-12-31 22:20:09,096]\u001b[0m Trial 42 finished with value: 0.9002109633995244 and parameters: {'n_estimators': 126, 'learning_rate': 0.978212322803643}. Best is trial 41 with value: 0.9013494960318789.\u001b[0m\n",
      "\u001b[32m[I 2022-12-31 22:20:18,320]\u001b[0m Trial 43 finished with value: 0.9005458259384522 and parameters: {'n_estimators': 84, 'learning_rate': 0.519232115489964}. Best is trial 41 with value: 0.9013494960318789.\u001b[0m\n",
      "\u001b[32m[I 2022-12-31 22:20:45,655]\u001b[0m Trial 44 finished with value: 0.900579312192345 and parameters: {'n_estimators': 254, 'learning_rate': 0.735420486675151}. Best is trial 41 with value: 0.9013494960318789.\u001b[0m\n",
      "\u001b[32m[I 2022-12-31 22:21:18,473]\u001b[0m Trial 45 finished with value: 0.9002779359073101 and parameters: {'n_estimators': 144, 'learning_rate': 0.28022413103193294}. Best is trial 41 with value: 0.9013494960318789.\u001b[0m\n",
      "\u001b[32m[I 2022-12-31 22:21:49,857]\u001b[0m Trial 46 finished with value: 0.8987375682282424 and parameters: {'n_estimators': 118, 'learning_rate': 0.04675320282465279}. Best is trial 41 with value: 0.9013494960318789.\u001b[0m\n",
      "\u001b[32m[I 2022-12-31 22:22:12,523]\u001b[0m Trial 47 finished with value: 0.9000435321300606 and parameters: {'n_estimators': 176, 'learning_rate': 0.15556917043201868}. Best is trial 41 with value: 0.9013494960318789.\u001b[0m\n",
      "\u001b[32m[I 2022-12-31 22:22:43,571]\u001b[0m Trial 48 finished with value: 0.9011150922546295 and parameters: {'n_estimators': 216, 'learning_rate': 0.4572255444648353}. Best is trial 41 with value: 0.9013494960318789.\u001b[0m\n",
      "\u001b[32m[I 2022-12-31 22:23:22,766]\u001b[0m Trial 49 finished with value: 0.9008472022234872 and parameters: {'n_estimators': 236, 'learning_rate': 0.02988587449172121}. Best is trial 41 with value: 0.9013494960318789.\u001b[0m\n",
      "\u001b[32m[I 2022-12-31 22:23:35,454]\u001b[0m Trial 50 finished with value: 0.8913371061179386 and parameters: {'n_estimators': 110, 'learning_rate': 0.014495389382983528}. Best is trial 41 with value: 0.9013494960318789.\u001b[0m\n",
      "\u001b[32m[I 2022-12-31 22:23:49,637]\u001b[0m Trial 51 finished with value: 0.901048119746844 and parameters: {'n_estimators': 133, 'learning_rate': 0.7471949702991207}. Best is trial 41 with value: 0.9013494960318789.\u001b[0m\n",
      "\u001b[32m[I 2022-12-31 22:24:05,722]\u001b[0m Trial 52 finished with value: 0.8999430733683823 and parameters: {'n_estimators': 146, 'learning_rate': 0.2530590197062872}. Best is trial 41 with value: 0.9013494960318789.\u001b[0m\n",
      "\u001b[32m[I 2022-12-31 22:24:13,838]\u001b[0m Trial 53 finished with value: 0.9004788534306667 and parameters: {'n_estimators': 73, 'learning_rate': 0.4376082278710309}. Best is trial 41 with value: 0.9013494960318789.\u001b[0m\n",
      "\u001b[32m[I 2022-12-31 22:24:37,586]\u001b[0m Trial 54 finished with value: 0.9005123396845595 and parameters: {'n_estimators': 192, 'learning_rate': 0.9734880853159696}. Best is trial 41 with value: 0.9013494960318789.\u001b[0m\n",
      "\u001b[32m[I 2022-12-31 22:25:03,472]\u001b[0m Trial 55 finished with value: 0.9007467434618089 and parameters: {'n_estimators': 170, 'learning_rate': 0.10710548697416625}. Best is trial 41 with value: 0.9013494960318789.\u001b[0m\n",
      "\u001b[32m[I 2022-12-31 22:25:20,530]\u001b[0m Trial 56 finished with value: 0.8913371061179386 and parameters: {'n_estimators': 103, 'learning_rate': 0.004590541926386565}. Best is trial 41 with value: 0.9013494960318789.\u001b[0m\n",
      "\u001b[32m[I 2022-12-31 22:25:36,002]\u001b[0m Trial 57 finished with value: 0.9009141747312728 and parameters: {'n_estimators': 148, 'learning_rate': 0.7174715476201261}. Best is trial 41 with value: 0.9013494960318789.\u001b[0m\n",
      "\u001b[32m[I 2022-12-31 22:25:57,502]\u001b[0m Trial 58 finished with value: 0.9003783946689884 and parameters: {'n_estimators': 203, 'learning_rate': 0.33509217364608196}. Best is trial 41 with value: 0.9013494960318789.\u001b[0m\n",
      "\u001b[32m[I 2022-12-31 22:26:21,002]\u001b[0m Trial 59 finished with value: 0.900579312192345 and parameters: {'n_estimators': 225, 'learning_rate': 0.2433570065082609}. Best is trial 41 with value: 0.9013494960318789.\u001b[0m\n",
      "\u001b[32m[I 2022-12-31 22:26:41,480]\u001b[0m Trial 60 finished with value: 0.9008137159695945 and parameters: {'n_estimators': 191, 'learning_rate': 0.07824458075788439}. Best is trial 41 with value: 0.9013494960318789.\u001b[0m\n",
      "\u001b[32m[I 2022-12-31 22:26:59,604]\u001b[0m Trial 61 finished with value: 0.8976325218497807 and parameters: {'n_estimators': 129, 'learning_rate': 0.03757982298168503}. Best is trial 41 with value: 0.9013494960318789.\u001b[0m\n",
      "\u001b[32m[I 2022-12-31 22:27:23,742]\u001b[0m Trial 62 finished with value: 0.9010816060007367 and parameters: {'n_estimators': 168, 'learning_rate': 0.05582573667880649}. Best is trial 41 with value: 0.9013494960318789.\u001b[0m\n",
      "\u001b[32m[I 2022-12-31 22:27:42,639]\u001b[0m Trial 63 finished with value: 0.901048119746844 and parameters: {'n_estimators': 152, 'learning_rate': 0.49516984181123846}. Best is trial 41 with value: 0.9013494960318789.\u001b[0m\n",
      "\u001b[32m[I 2022-12-31 22:28:02,974]\u001b[0m Trial 64 finished with value: 0.8978334393731373 and parameters: {'n_estimators': 193, 'learning_rate': 0.02594180044998935}. Best is trial 41 with value: 0.9013494960318789.\u001b[0m\n",
      "\u001b[32m[I 2022-12-31 22:28:53,843]\u001b[0m Trial 65 finished with value: 0.8922412349730435 and parameters: {'n_estimators': 487, 'learning_rate': 0.006708397932785476}. Best is trial 41 with value: 0.9013494960318789.\u001b[0m\n",
      "\u001b[32m[I 2022-12-31 22:29:03,067]\u001b[0m Trial 66 finished with value: 0.8999430733683823 and parameters: {'n_estimators': 86, 'learning_rate': 0.40972317040727113}. Best is trial 41 with value: 0.9013494960318789.\u001b[0m\n",
      "\u001b[32m[I 2022-12-31 22:29:15,803]\u001b[0m Trial 67 finished with value: 0.8913371061179386 and parameters: {'n_estimators': 116, 'learning_rate': 0.0022076875757734075}. Best is trial 41 with value: 0.9013494960318789.\u001b[0m\n",
      "\u001b[32m[I 2022-12-31 22:29:37,159]\u001b[0m Trial 68 finished with value: 0.9008472022234872 and parameters: {'n_estimators': 173, 'learning_rate': 0.03957868202863663}. Best is trial 41 with value: 0.9013494960318789.\u001b[0m\n",
      "\u001b[32m[I 2022-12-31 22:29:56,423]\u001b[0m Trial 69 finished with value: 0.8913371061179386 and parameters: {'n_estimators': 139, 'learning_rate': 0.014086144726473421}. Best is trial 41 with value: 0.9013494960318789.\u001b[0m\n",
      "\u001b[32m[I 2022-12-31 22:30:26,900]\u001b[0m Trial 70 finished with value: 0.9007802297157017 and parameters: {'n_estimators': 253, 'learning_rate': 0.07372793995953127}. Best is trial 41 with value: 0.9013494960318789.\u001b[0m\n",
      "\u001b[32m[I 2022-12-31 22:31:15,423]\u001b[0m Trial 71 finished with value: 0.9003783946689884 and parameters: {'n_estimators': 296, 'learning_rate': 0.6632029916740423}. Best is trial 41 with value: 0.9013494960318789.\u001b[0m\n",
      "\u001b[32m[I 2022-12-31 22:32:12,065]\u001b[0m Trial 72 finished with value: 0.9010146334929512 and parameters: {'n_estimators': 219, 'learning_rate': 0.4893352838350062}. Best is trial 41 with value: 0.9013494960318789.\u001b[0m\n",
      "\u001b[32m[I 2022-12-31 22:32:46,608]\u001b[0m Trial 73 finished with value: 0.9005458259384522 and parameters: {'n_estimators': 162, 'learning_rate': 0.3234913884846934}. Best is trial 41 with value: 0.9013494960318789.\u001b[0m\n",
      "\u001b[32m[I 2022-12-31 22:33:28,225]\u001b[0m Trial 74 finished with value: 0.9007467434618089 and parameters: {'n_estimators': 207, 'learning_rate': 0.8286620536767967}. Best is trial 41 with value: 0.9013494960318789.\u001b[0m\n",
      "\u001b[32m[I 2022-12-31 22:34:10,709]\u001b[0m Trial 75 finished with value: 0.9010146334929512 and parameters: {'n_estimators': 186, 'learning_rate': 0.052259152302314614}. Best is trial 41 with value: 0.9013494960318789.\u001b[0m\n",
      "\u001b[32m[I 2022-12-31 22:34:55,954]\u001b[0m Trial 76 finished with value: 0.9003449084150956 and parameters: {'n_estimators': 157, 'learning_rate': 0.18622821290307434}. Best is trial 41 with value: 0.9013494960318789.\u001b[0m\n",
      "\u001b[32m[I 2022-12-31 22:35:39,787]\u001b[0m Trial 77 finished with value: 0.9012490372702006 and parameters: {'n_estimators': 200, 'learning_rate': 0.4304076158089581}. Best is trial 41 with value: 0.9013494960318789.\u001b[0m\n",
      "\u001b[32m[I 2022-12-31 22:36:56,227]\u001b[0m Trial 78 finished with value: 0.9004453671767739 and parameters: {'n_estimators': 364, 'learning_rate': 0.12315912204755754}. Best is trial 41 with value: 0.9013494960318789.\u001b[0m\n",
      "\u001b[32m[I 2022-12-31 22:37:36,753]\u001b[0m Trial 79 finished with value: 0.9006462847001306 and parameters: {'n_estimators': 202, 'learning_rate': 0.09470837718085431}. Best is trial 41 with value: 0.9013494960318789.\u001b[0m\n",
      "\u001b[32m[I 2022-12-31 22:38:07,798]\u001b[0m Trial 80 finished with value: 0.9003449084150956 and parameters: {'n_estimators': 180, 'learning_rate': 0.23133412852685625}. Best is trial 41 with value: 0.9013494960318789.\u001b[0m\n",
      "\u001b[32m[I 2022-12-31 22:39:03,164]\u001b[0m Trial 81 finished with value: 0.9005458259384522 and parameters: {'n_estimators': 234, 'learning_rate': 0.41008016111988077}. Best is trial 41 with value: 0.9013494960318789.\u001b[0m\n",
      "\u001b[32m[I 2022-12-31 22:39:58,086]\u001b[0m Trial 82 finished with value: 0.9009811472390584 and parameters: {'n_estimators': 218, 'learning_rate': 0.5629673704731915}. Best is trial 41 with value: 0.9013494960318789.\u001b[0m\n",
      "\u001b[32m[I 2022-12-31 22:40:28,241]\u001b[0m Trial 83 finished with value: 0.901182064762415 and parameters: {'n_estimators': 130, 'learning_rate': 0.44529646387527866}. Best is trial 41 with value: 0.9013494960318789.\u001b[0m\n",
      "\u001b[32m[I 2022-12-31 22:40:59,448]\u001b[0m Trial 84 finished with value: 0.8928439875431136 and parameters: {'n_estimators': 126, 'learning_rate': 0.02432775029494287}. Best is trial 41 with value: 0.9013494960318789.\u001b[0m\n",
      "\u001b[32m[I 2022-12-31 22:41:22,540]\u001b[0m Trial 85 finished with value: 0.901048119746844 and parameters: {'n_estimators': 93, 'learning_rate': 0.6169265777963848}. Best is trial 41 with value: 0.9013494960318789.\u001b[0m\n",
      "\u001b[32m[I 2022-12-31 22:41:59,256]\u001b[0m Trial 86 finished with value: 0.900579312192345 and parameters: {'n_estimators': 111, 'learning_rate': 0.8360722715291272}. Best is trial 41 with value: 0.9013494960318789.\u001b[0m\n",
      "\u001b[32m[I 2022-12-31 22:42:45,395]\u001b[0m Trial 87 finished with value: 0.9003783946689884 and parameters: {'n_estimators': 143, 'learning_rate': 0.3042090557806408}. Best is trial 41 with value: 0.9013494960318789.\u001b[0m\n",
      "\u001b[32m[I 2022-12-31 22:43:21,482]\u001b[0m Trial 88 finished with value: 0.9002109633995244 and parameters: {'n_estimators': 133, 'learning_rate': 0.38763223047623097}. Best is trial 41 with value: 0.9013494960318789.\u001b[0m\n",
      "\u001b[32m[I 2022-12-31 22:43:56,908]\u001b[0m Trial 89 finished with value: 0.9011485785085223 and parameters: {'n_estimators': 106, 'learning_rate': 0.5420504646801378}. Best is trial 41 with value: 0.9013494960318789.\u001b[0m\n",
      "\u001b[32m[I 2022-12-31 22:44:39,932]\u001b[0m Trial 90 finished with value: 0.90088068847738 and parameters: {'n_estimators': 159, 'learning_rate': 0.04515906904905866}. Best is trial 41 with value: 0.9013494960318789.\u001b[0m\n",
      "\u001b[32m[I 2022-12-31 22:45:04,256]\u001b[0m Trial 91 finished with value: 0.9009811472390584 and parameters: {'n_estimators': 104, 'learning_rate': 0.5326856548689936}. Best is trial 41 with value: 0.9013494960318789.\u001b[0m\n",
      "\u001b[32m[I 2022-12-31 22:45:40,642]\u001b[0m Trial 92 finished with value: 0.901048119746844 and parameters: {'n_estimators': 122, 'learning_rate': 0.7185941081424247}. Best is trial 41 with value: 0.9013494960318789.\u001b[0m\n",
      "\u001b[32m[I 2022-12-31 22:46:15,696]\u001b[0m Trial 93 finished with value: 0.9008137159695945 and parameters: {'n_estimators': 148, 'learning_rate': 0.35958731319485576}. Best is trial 41 with value: 0.9013494960318789.\u001b[0m\n",
      "\u001b[32m[I 2022-12-31 22:46:34,537]\u001b[0m Trial 94 finished with value: 0.90088068847738 and parameters: {'n_estimators': 79, 'learning_rate': 0.47329449049746003}. Best is trial 41 with value: 0.9013494960318789.\u001b[0m\n",
      "\u001b[32m[I 2022-12-31 22:46:52,924]\u001b[0m Trial 95 finished with value: 0.8999765596222751 and parameters: {'n_estimators': 95, 'learning_rate': 0.2636625379494615}. Best is trial 41 with value: 0.9013494960318789.\u001b[0m\n",
      "\u001b[32m[I 2022-12-31 22:47:08,565]\u001b[0m Trial 96 finished with value: 0.8913371061179386 and parameters: {'n_estimators': 63, 'learning_rate': 0.03543346443946899}. Best is trial 41 with value: 0.9013494960318789.\u001b[0m\n",
      "\u001b[32m[I 2022-12-31 22:47:35,963]\u001b[0m Trial 97 finished with value: 0.9003783946689884 and parameters: {'n_estimators': 136, 'learning_rate': 0.14211806005208658}. Best is trial 41 with value: 0.9013494960318789.\u001b[0m\n",
      "\u001b[32m[I 2022-12-31 22:48:21,693]\u001b[0m Trial 98 finished with value: 0.9009141747312728 and parameters: {'n_estimators': 171, 'learning_rate': 0.6323921256952187}. Best is trial 41 with value: 0.9013494960318789.\u001b[0m\n",
      "\u001b[32m[I 2022-12-31 22:48:56,790]\u001b[0m Trial 99 finished with value: 0.9006462847001306 and parameters: {'n_estimators': 114, 'learning_rate': 0.4373240905953344}. Best is trial 41 with value: 0.9013494960318789.\u001b[0m\n"
     ]
    },
    {
     "name": "stdout",
     "output_type": "stream",
     "text": [
      "Number of finished trials:  100\n",
      "Best trial:\n",
      "  Value:  0.9013494960318789\n",
      "  Params: \n",
      "    n_estimators: 120\n",
      "    learning_rate: 0.5748335028625987\n"
     ]
    }
   ],
   "source": [
    "import optuna\n",
    "\n",
    "sampler = TPESampler(seed=1)\n",
    "study = optuna.create_study(direction=\"maximize\", sampler=sampler)\n",
    "study.optimize(objective, n_trials=100)\n",
    "\n",
    "print(\"Number of finished trials: \", len(study.trials))\n",
    "print(\"Best trial:\")\n",
    "trial = study.best_trial\n",
    "print(\"  Value: \", trial.value)\n",
    "print(\"  Params: \")\n",
    "for key, value in trial.params.items():\n",
    "    print(\"    {}: {}\".format(key, value))"
   ]
  },
  {
   "cell_type": "code",
   "execution_count": 35,
   "id": "a2ae9e8e-cbb8-482b-b4d6-5791063d946b",
   "metadata": {},
   "outputs": [
    {
     "name": "stdout",
     "output_type": "stream",
     "text": [
      "Adaboost tune Accuracy:  0.9013494960318789\n"
     ]
    }
   ],
   "source": [
    "model = AdaBoostClassifier(learning_rate=0.5748335028625987, n_estimators=120,random_state=42)\n",
    "model.fit(X_train, y_train)\n",
    "print(\"Adaboost tune Accuracy: \",model.score(X_test,y_test))"
   ]
  },
  {
   "cell_type": "code",
   "execution_count": 38,
   "id": "b23de130-96ab-4f9f-a33a-f2b6898e8577",
   "metadata": {},
   "outputs": [
    {
     "name": "stdout",
     "output_type": "stream",
     "text": [
      "AdaBoost tune Classifier F1 Score:  [0.90149793 0.90120062]\n",
      "AdaBoost tune Classifier R2 Score:  0.6053947871925549\n"
     ]
    },
    {
     "data": {
      "image/png": "[encoded data removed]",
      "text/plain": [
       "<Figure size 432x288 with 2 Axes>"
      ]
     },
     "metadata": {
      "needs_background": "light"
     },
     "output_type": "display_data"
    }
   ],
   "source": [
    "print(\"AdaBoost tune Classifier F1 Score: \", f1_score(y_test,model.predict(X_test),average=None))\n",
    "print(\"AdaBoost tune Classifier R2 Score: \", r2_score(y_test,model.predict(X_test)))\n",
    "plt.figure()\n",
    "sns.heatmap(confusion_matrix(y_test, model.predict(X_test)), annot=True, fmt=\".0f\")\n",
    "plt.title(\"AdaBoost tune Classifier Confusion Matrix\",fontsize=18, color=\"b\")\n",
    "plt.savefig(\"../Images/plots/Adaboost_tune_class_conf_matrix.jpeg\")\n",
    "plt.show()"
   ]
  },
  {
   "cell_type": "markdown",
   "id": "7f9ac3d9-e5ef-41a9-9586-99d7b10b1a93",
   "metadata": {
    "jp-MarkdownHeadingCollapsed": true,
    "tags": []
   },
   "source": [
    "### Hyperparamter Tuning with RandomizedSearchCV"
   ]
  },
  {
   "cell_type": "code",
   "execution_count": null,
   "id": "1a63f6db-4c80-4a66-90aa-9bfcdad28daa",
   "metadata": {},
   "outputs": [],
   "source": [
    "# # Create a hyperparameter grid for LogisticRegression\n",
    "# logreg_grid = {\"C\": np.logspace(-4, 4, 50),\n",
    "#                \"penalty\" : ['l1', 'l2', 'none'],\n",
    "#                 \"solver\": [\"liblinear\", 'newton-cg']}\n",
    "\n",
    "# # Tune LogisticRegression\n",
    "# # Setup random hyperparameter search for LogisticRegression\n",
    "# rs_log_reg = RandomizedSearchCV(LogisticRegression(),\n",
    "#                                 param_distributions=logreg_grid,\n",
    "#                                 cv=5,\n",
    "#                                 n_iter=500,\n",
    "#                                 verbose=True,\n",
    "#                                 random_state=42)\n",
    "\n",
    "# # Fit random hyperparameter search model for LogisticRegression\n",
    "# rs_log_reg.fit(X_train, y_train)"
   ]
  },
  {
   "cell_type": "code",
   "execution_count": null,
   "id": "92c6363d-b12d-4038-a76f-687796222df5",
   "metadata": {},
   "outputs": [],
   "source": [
    "# # Finding the best hyperparameter\n",
    "# rs_log_reg.best_params_"
   ]
  },
  {
   "cell_type": "code",
   "execution_count": null,
   "id": "a6b20ffd-af86-4495-8b6f-f2837e6aeafe",
   "metadata": {},
   "outputs": [],
   "source": [
    "# rs_log_reg.score(X_test, y_test)"
   ]
  },
  {
   "cell_type": "code",
   "execution_count": null,
   "id": "cd8e1437-eab3-457f-af87-e73a1f0c034f",
   "metadata": {},
   "outputs": [],
   "source": [
    "# # XGBoost\n",
    "# # n_jobs=-1 to allow run it on all cores\n",
    "# params = {\n",
    "#     'n_estimators': [100, 200, 500],\n",
    "#     'learning_rate': [0.01,0.05,0.1],\n",
    "#     'booster': ['gbtree', 'gblinear'],\n",
    "#     'gamma': [0, 0.5, 1],\n",
    "#     'reg_alpha': [0, 0.5, 1],\n",
    "#     'reg_lambda': [0.5, 1, 5],\n",
    "#     'base_score': [0.2, 0.5, 1]\n",
    "# }\n",
    "\n",
    "# # Set up the k-fold cross-validation\n",
    "# kfold = StratifiedKFold(n_splits=10, shuffle=True, random_state=42)\n",
    "\n",
    "# XGB_randomsearch = RandomizedSearchCV(XGBClassifier(), \n",
    "#                                       params,\n",
    "#                                       n_iter=150,\n",
    "#                                       n_jobs=-1, \n",
    "#                                       cv=kfold, \n",
    "#                                       verbose=True, \n",
    "#                                       scoring='roc_auc', \n",
    "#                                       random_state=42)\n",
    "\n",
    "# XGB_randomsearch.fit(X_train, y_train)\n",
    "\n",
    "# print('Best score:', XGB_randomsearch.best_score_)\n",
    "# print('Best score:', XGB_randomsearch.best_params_)"
   ]
  },
  {
   "cell_type": "markdown",
   "id": "2f979e03-955c-43fb-bdcc-86ea1b1cc306",
   "metadata": {
    "tags": []
   },
   "source": [
    "### GridSearchCV"
   ]
  },
  {
   "cell_type": "code",
   "execution_count": null,
   "id": "60bffdcc-1a27-4361-993a-2dfc9e4cbc21",
   "metadata": {},
   "outputs": [],
   "source": [
    "# # Different hyperparameter grid for LogisticRegression\n",
    "# log_reg_grid = {\"penalty\":['l1', 'none', 'elasticnet'],\n",
    "#                 \"C\": np.logspace(-4, 4, 80),\n",
    "#                 \"solver\": [\"liblinear\", \"saga\", \"newton-cg\"]\n",
    "#                 }\n",
    "\n",
    "# # Setup grid hyperparameter search for LogisticRegression\n",
    "# gs_log_reg = GridSearchCV(LogisticRegression(),\n",
    "#                           param_grid=log_reg_grid,\n",
    "#                           cv=5,\n",
    "#                           verbose=True)\n",
    "\n",
    "# # Fit grid hyperparameter search model\n",
    "# gs_log_reg.fit(X_train, y_train)"
   ]
  },
  {
   "cell_type": "code",
   "execution_count": null,
   "id": "5cb5d67a-9c51-4ef0-9ab7-6361e663b7eb",
   "metadata": {},
   "outputs": [],
   "source": [
    "# gs_log_reg.best_params_"
   ]
  },
  {
   "cell_type": "code",
   "execution_count": null,
   "id": "53eedded-291a-418a-9a3b-b461a669997a",
   "metadata": {},
   "outputs": [],
   "source": [
    "# gs_log_reg.score(X_test, y_test)"
   ]
  },
  {
   "cell_type": "code",
   "execution_count": null,
   "id": "678f5190-0a5e-46d9-8e62-b3f10e0f30d7",
   "metadata": {},
   "outputs": [],
   "source": [
    "# # XGBoost\n",
    "# # n_jobs=-1 to allow run it on all cores\n",
    "# params = {\n",
    "#     'n_estimators': [100, 200, 500],\n",
    "#     'learning_rate': [0.01,0.05,0.1],\n",
    "#     'booster': ['gbtree', 'gblinear'],\n",
    "#     'gamma': [0, 0.5, 1],\n",
    "#     'reg_alpha': [0, 0.5, 1],\n",
    "#     'reg_lambda': [0.5, 1, 5],\n",
    "#     'base_score': [0.2, 0.5, 1]\n",
    "# }\n",
    "\n",
    "# # Set up the k-fold cross-validation\n",
    "# kfold = StratifiedKFold(n_splits=10, shuffle=True, random_state=42)\n",
    "\n",
    "# XGB_gridsearch = GridSearchCV(XGBClassifier(), \n",
    "#                    params, \n",
    "#                    n_jobs=-1, \n",
    "#                    cv=kfold, \n",
    "#                    verbose=True)\n",
    "# XGB_gridsearch.fit(X_train, y_train)\n",
    "\n",
    "# print('Best score:', XGB_gridsearch.best_score_)\n",
    "# print('Best score:', XGB_gridsearch.best_params_)"
   ]
  },
  {
   "cell_type": "code",
   "execution_count": null,
   "id": "d147b81f-8a40-4c0a-aa97-c195bc2f148d",
   "metadata": {},
   "outputs": [],
   "source": []
  }
 ],
 "metadata": {
  "kernelspec": {
   "display_name": "Python 3 (ipykernel)",
   "language": "python",
   "name": "python3"
  },
  "language_info": {
   "codemirror_mode": {
    "name": "ipython",
    "version": 3
   },
   "file_extension": ".py",
   "mimetype": "text/x-python",
   "name": "python",
   "nbconvert_exporter": "python",
   "pygments_lexer": "ipython3",
   "version": "3.8.8"
  }
 },
 "nbformat": 4,
 "nbformat_minor": 5
}
