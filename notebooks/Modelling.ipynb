{
 "cells": [
  {
   "cell_type": "code",
   "execution_count": 1,
   "id": "4ed46680-b498-4ccf-9e35-9c5bb2098cdd",
   "metadata": {},
   "outputs": [],
   "source": [
    "import pandas as pd\n",
    "import numpy as np\n",
    "import matplotlib.pyplot as plt\n",
    "import seaborn as sns\n",
    "from scipy.stats import uniform as sp_randFloat\n",
    "from scipy.stats import randint as sp_randInt\n",
    "\n",
    "import warnings\n",
    "warnings.filterwarnings(\"ignore\")\n",
    "\n",
    "from sklearn.feature_selection import SelectKBest, chi2, f_classif\n",
    "from sklearn.preprocessing import RobustScaler, StandardScaler,MinMaxScaler\n",
    "from imblearn.under_sampling import RandomUnderSampler\n",
    "import joblib\n",
    "from sklearn.metrics import confusion_matrix, f1_score, r2_score, classification_report\n",
    "from sklearn.model_selection import train_test_split, cross_val_score, RandomizedSearchCV, GridSearchCV, KFold, StratifiedKFold\n",
    "\n",
    "## Display all rows and columns of a dataframe instead of a truncated version\n",
    "from IPython.display import display\n",
    "pd.set_option('display.max_columns', None)\n",
    "pd.set_option('display.max_rows', None)"
   ]
  },
  {
   "cell_type": "code",
   "execution_count": 2,
   "id": "f1439db9-4a6d-45a0-b1fc-55e1aff6874a",
   "metadata": {},
   "outputs": [
    {
     "data": {
      "text/html": [
       "<div>\n",
       "<style scoped>\n",
       "    .dataframe tbody tr th:only-of-type {\n",
       "        vertical-align: middle;\n",
       "    }\n",
       "\n",
       "    .dataframe tbody tr th {\n",
       "        vertical-align: top;\n",
       "    }\n",
       "\n",
       "    .dataframe thead th {\n",
       "        text-align: right;\n",
       "    }\n",
       "</style>\n",
       "<table border=\"1\" class=\"dataframe\">\n",
       "  <thead>\n",
       "    <tr style=\"text-align: right;\">\n",
       "      <th></th>\n",
       "      <th>USMER</th>\n",
       "      <th>MEDICAL_UNIT</th>\n",
       "      <th>SEX</th>\n",
       "      <th>PATIENT_TYPE</th>\n",
       "      <th>PNEUMONIA</th>\n",
       "      <th>AGE</th>\n",
       "      <th>PREGNANT</th>\n",
       "      <th>DIABETES</th>\n",
       "      <th>COPD</th>\n",
       "      <th>ASTHMA</th>\n",
       "      <th>INMSUPR</th>\n",
       "      <th>HIPERTENSION</th>\n",
       "      <th>OTHER_DISEASE</th>\n",
       "      <th>CARDIOVASCULAR</th>\n",
       "      <th>OBESITY</th>\n",
       "      <th>RENAL_CHRONIC</th>\n",
       "      <th>TOBACCO</th>\n",
       "      <th>DEATH</th>\n",
       "      <th>INFECTED</th>\n",
       "    </tr>\n",
       "  </thead>\n",
       "  <tbody>\n",
       "    <tr>\n",
       "      <th>0</th>\n",
       "      <td>2</td>\n",
       "      <td>1</td>\n",
       "      <td>1</td>\n",
       "      <td>1</td>\n",
       "      <td>1</td>\n",
       "      <td>65</td>\n",
       "      <td>2</td>\n",
       "      <td>2</td>\n",
       "      <td>2</td>\n",
       "      <td>2</td>\n",
       "      <td>2</td>\n",
       "      <td>1</td>\n",
       "      <td>2</td>\n",
       "      <td>2</td>\n",
       "      <td>2</td>\n",
       "      <td>2</td>\n",
       "      <td>2</td>\n",
       "      <td>1</td>\n",
       "      <td>1</td>\n",
       "    </tr>\n",
       "    <tr>\n",
       "      <th>1</th>\n",
       "      <td>2</td>\n",
       "      <td>1</td>\n",
       "      <td>2</td>\n",
       "      <td>1</td>\n",
       "      <td>1</td>\n",
       "      <td>72</td>\n",
       "      <td>2</td>\n",
       "      <td>2</td>\n",
       "      <td>2</td>\n",
       "      <td>2</td>\n",
       "      <td>2</td>\n",
       "      <td>1</td>\n",
       "      <td>2</td>\n",
       "      <td>2</td>\n",
       "      <td>1</td>\n",
       "      <td>1</td>\n",
       "      <td>2</td>\n",
       "      <td>1</td>\n",
       "      <td>2</td>\n",
       "    </tr>\n",
       "    <tr>\n",
       "      <th>2</th>\n",
       "      <td>2</td>\n",
       "      <td>1</td>\n",
       "      <td>2</td>\n",
       "      <td>2</td>\n",
       "      <td>2</td>\n",
       "      <td>55</td>\n",
       "      <td>2</td>\n",
       "      <td>1</td>\n",
       "      <td>2</td>\n",
       "      <td>2</td>\n",
       "      <td>2</td>\n",
       "      <td>2</td>\n",
       "      <td>2</td>\n",
       "      <td>2</td>\n",
       "      <td>2</td>\n",
       "      <td>2</td>\n",
       "      <td>2</td>\n",
       "      <td>1</td>\n",
       "      <td>1</td>\n",
       "    </tr>\n",
       "    <tr>\n",
       "      <th>3</th>\n",
       "      <td>2</td>\n",
       "      <td>1</td>\n",
       "      <td>1</td>\n",
       "      <td>1</td>\n",
       "      <td>2</td>\n",
       "      <td>53</td>\n",
       "      <td>2</td>\n",
       "      <td>2</td>\n",
       "      <td>2</td>\n",
       "      <td>2</td>\n",
       "      <td>2</td>\n",
       "      <td>2</td>\n",
       "      <td>2</td>\n",
       "      <td>2</td>\n",
       "      <td>2</td>\n",
       "      <td>2</td>\n",
       "      <td>2</td>\n",
       "      <td>1</td>\n",
       "      <td>2</td>\n",
       "    </tr>\n",
       "    <tr>\n",
       "      <th>4</th>\n",
       "      <td>2</td>\n",
       "      <td>1</td>\n",
       "      <td>2</td>\n",
       "      <td>1</td>\n",
       "      <td>2</td>\n",
       "      <td>68</td>\n",
       "      <td>2</td>\n",
       "      <td>1</td>\n",
       "      <td>2</td>\n",
       "      <td>2</td>\n",
       "      <td>2</td>\n",
       "      <td>1</td>\n",
       "      <td>2</td>\n",
       "      <td>2</td>\n",
       "      <td>2</td>\n",
       "      <td>2</td>\n",
       "      <td>2</td>\n",
       "      <td>1</td>\n",
       "      <td>1</td>\n",
       "    </tr>\n",
       "  </tbody>\n",
       "</table>\n",
       "</div>"
      ],
      "text/plain": [
       "   USMER  MEDICAL_UNIT  SEX  PATIENT_TYPE  PNEUMONIA  AGE  PREGNANT  DIABETES  \\\n",
       "0      2             1    1             1          1   65         2         2   \n",
       "1      2             1    2             1          1   72         2         2   \n",
       "2      2             1    2             2          2   55         2         1   \n",
       "3      2             1    1             1          2   53         2         2   \n",
       "4      2             1    2             1          2   68         2         1   \n",
       "\n",
       "   COPD  ASTHMA  INMSUPR  HIPERTENSION  OTHER_DISEASE  CARDIOVASCULAR  \\\n",
       "0     2       2        2             1              2               2   \n",
       "1     2       2        2             1              2               2   \n",
       "2     2       2        2             2              2               2   \n",
       "3     2       2        2             2              2               2   \n",
       "4     2       2        2             1              2               2   \n",
       "\n",
       "   OBESITY  RENAL_CHRONIC  TOBACCO  DEATH  INFECTED  \n",
       "0        2              2        2      1         1  \n",
       "1        1              1        2      1         2  \n",
       "2        2              2        2      1         1  \n",
       "3        2              2        2      1         2  \n",
       "4        2              2        2      1         1  "
      ]
     },
     "execution_count": 2,
     "metadata": {},
     "output_type": "execute_result"
    }
   ],
   "source": [
    "df = pd.read_csv('../Data/Covid-19.csv')\n",
    "df.head()"
   ]
  },
  {
   "cell_type": "code",
   "execution_count": 3,
   "id": "a1fe8a85-57c4-416f-9c4f-0afc50c70555",
   "metadata": {},
   "outputs": [],
   "source": [
    "# Splitting the datasets and choosing 10 columns that are correlated with the DEATH Column\n",
    "X = SelectKBest(k=14, score_func=f_classif).fit_transform(df.drop(['DEATH'],axis=1), df['DEATH'])\n",
    "y = df['DEATH']"
   ]
  },
  {
   "cell_type": "code",
   "execution_count": 4,
   "id": "552d199f-1cc8-477d-8074-93939772dbf8",
   "metadata": {},
   "outputs": [],
   "source": [
    "# # Scaling the numeric feature\n",
    "# scaler = RobustScaler()\n",
    "# df['AGE'] = scaler.fit_transform(df.AGE.values.reshape(-1,1))\n",
    "# df['MEDICAL_UNIT'] = scaler.fit_transform(df.MEDICAL_UNIT.values.reshape(-1,1))\n",
    "# df.head()\n",
    "scaler = RobustScaler()\n",
    "X = scaler.fit_transform(X)"
   ]
  },
  {
   "cell_type": "code",
   "execution_count": 5,
   "id": "9dfab110-bc55-44bf-a59a-c9e99a903eec",
   "metadata": {},
   "outputs": [
    {
     "name": "stdout",
     "output_type": "stream",
     "text": [
      "X_train : (119451, 14)\n",
      "X_test : (29863, 14)\n",
      "y_train : (119451,)\n",
      "y_test : (29863,)\n"
     ]
    }
   ],
   "source": [
    "# Splitting the data into train and test, since the data is imbalance I would Undersample the majority class\n",
    "rus = RandomUnderSampler(random_state=42)\n",
    "X_resampled, y_resampled = rus.fit_resample(X,y)\n",
    "X_train, X_test, y_train, y_test = train_test_split(X_resampled, y_resampled, test_size=0.2, random_state=42)\n",
    "print(\"X_train :\",X_train.shape)\n",
    "print(\"X_test :\",X_test.shape)\n",
    "print(\"y_train :\",y_train.shape)\n",
    "print(\"y_test :\",y_test.shape)"
   ]
  },
  {
   "cell_type": "code",
   "execution_count": 6,
   "id": "1f4a09a3-586b-4ca4-98cd-600261636a59",
   "metadata": {},
   "outputs": [],
   "source": [
    "# plt.figure()\n",
    "# sns.barplot(y_resampled.value_counts().index,y_resampled.value_counts().values).set(title=\"DEATHS Counts\",xticklabels=([\"Dead\",\"Alive\"]),ylabel=\"Value\")\n",
    "# # plt.savefig(\"myfirstplot.jpeg\")\n",
    "# plt.show()"
   ]
  },
  {
   "cell_type": "code",
   "execution_count": 7,
   "id": "45d14170-3c17-4f93-ad76-cb3d4191e3f4",
   "metadata": {},
   "outputs": [],
   "source": [
    "# # Export splitted data\n",
    "# pd.DataFrame(X_train).to_csv(\"../Data/features/X_train.csv\", index=False)\n",
    "# pd.DataFrame(X_test).to_csv(\"../Data/features/X_test.csv\", index=False)\n",
    "# pd.DataFrame(y_train).to_csv(\"../Data/features/y_train.csv\", index=False)\n",
    "# pd.DataFrame(y_test).to_csv(\"../Data/features/y_test.csv\", index=False)"
   ]
  },
  {
   "cell_type": "markdown",
   "id": "b80a9e01-7a09-4d8b-a1e5-7039621f1e37",
   "metadata": {},
   "source": [
    "## Models"
   ]
  },
  {
   "cell_type": "code",
   "execution_count": 8,
   "id": "922e2043-2d20-4eba-9b60-eff749d70931",
   "metadata": {},
   "outputs": [],
   "source": [
    "from sklearn.linear_model import LogisticRegression\n",
    "from sklearn.neighbors import KNeighborsClassifier\n",
    "from sklearn.ensemble import AdaBoostClassifier,GradientBoostingClassifier,RandomForestClassifier\n",
    "from xgboost import XGBClassifier \n",
    "from sklearn.tree import DecisionTreeClassifier\n",
    "from sklearn.svm import SVC\n",
    "from sklearn.model_selection import cross_val_score,GridSearchCV\n",
    "from sklearn import metrics"
   ]
  },
  {
   "cell_type": "code",
   "execution_count": 9,
   "id": "32baa34c-6366-4de8-86e2-a377ad58b41c",
   "metadata": {},
   "outputs": [],
   "source": [
    "models = {\"Logistic Regression\": LogisticRegression(),\n",
    "         \"KNN\": KNeighborsClassifier(),\n",
    "         \"Random Forest\": RandomForestClassifier(),\n",
    "          \"Gradient Boosting\": GradientBoostingClassifier(),\n",
    "          \"Decision Tree\": DecisionTreeClassifier(),\n",
    "          \"XGB Classifier\": XGBClassifier()\n",
    "         }\n",
    "\n",
    "# Creating a function to fit and score the models\n",
    "def fit_and_score(models, X_train, X_test, y_train, y_test):\n",
    "    model_scores = {}\n",
    "    for name, model in models.items():\n",
    "        model.fit(X_train, y_train)\n",
    "        model_scores[name] = model.score(X_test, y_test)\n",
    "    return model_scores"
   ]
  },
  {
   "cell_type": "code",
   "execution_count": 10,
   "id": "7d18703c-a693-4250-8ef5-568941e5687f",
   "metadata": {},
   "outputs": [
    {
     "name": "stdout",
     "output_type": "stream",
     "text": [
      "[17:22:05] WARNING: ..\\src\\learner.cc:1115: Starting in XGBoost 1.3.0, the default evaluation metric used with the objective 'binary:logistic' was changed from 'error' to 'logloss'. Explicitly set eval_metric if you'd like to restore the old behavior.\n"
     ]
    },
    {
     "data": {
      "text/plain": [
       "{'Logistic Regression': 0.9050999564678699,\n",
       " 'KNN': 0.9027559186953755,\n",
       " 'Random Forest': 0.8975990355958879,\n",
       " 'Gradient Boosting': 0.9147774838428825,\n",
       " 'Decision Tree': 0.8885242607909453,\n",
       " 'XGB Classifier': 0.9143086762883836}"
      ]
     },
     "execution_count": 10,
     "metadata": {},
     "output_type": "execute_result"
    }
   ],
   "source": [
    "model_scores = fit_and_score(models = models,\n",
    "                            X_train = X_train,\n",
    "                            X_test = X_test,\n",
    "                            y_train = y_train,\n",
    "                            y_test = y_test)\n",
    "model_scores"
   ]
  },
  {
   "cell_type": "markdown",
   "id": "92182da3-8c50-475a-9b1a-c53e1e970b9c",
   "metadata": {},
   "source": [
    "**We would proceed by hyper-tuning using randomgridcv on Logistic Regression, Gradient Boosting, XGB Classifier. My computer couldn't handle the work load**"
   ]
  },
  {
   "cell_type": "markdown",
   "id": "633f6af3-9fe8-4376-9024-e064faa1ab83",
   "metadata": {},
   "source": [
    "## Logistic Regression"
   ]
  },
  {
   "cell_type": "code",
   "execution_count": 11,
   "id": "bbe8c27f-8a1f-433c-a22f-da21d027b56b",
   "metadata": {},
   "outputs": [
    {
     "name": "stdout",
     "output_type": "stream",
     "text": [
      "Logistic Regression Accuracy:  0.9050999564678699\n"
     ]
    }
   ],
   "source": [
    "lr = LogisticRegression()\n",
    "lr.fit(X_train,y_train)\n",
    "print(\"Logistic Regression Accuracy: \",lr.score(X_test,y_test))"
   ]
  },
  {
   "cell_type": "code",
   "execution_count": 12,
   "id": "9122b6e0-0483-492c-b730-bdad2f961b39",
   "metadata": {},
   "outputs": [
    {
     "name": "stdout",
     "output_type": "stream",
     "text": [
      "Logistic Regression F1 Score:  [0.90614029 0.9040363 ]\n",
      "Logistic Regression R2 Score:  0.6203967504764767\n"
     ]
    },
    {
     "data": {
      "image/png": "[encoded data removed]",
      "text/plain": [
       "<Figure size 432x288 with 2 Axes>"
      ]
     },
     "metadata": {
      "needs_background": "light"
     },
     "output_type": "display_data"
    }
   ],
   "source": [
    "print(\"Logistic Regression F1 Score: \", f1_score(y_test,lr.predict(X_test),average=None))\n",
    "print(\"Logistic Regression R2 Score: \", r2_score(y_test,lr.predict(X_test)))\n",
    "plt.figure()\n",
    "sns.heatmap(confusion_matrix(y_test, lr.predict(X_test)), annot=True, fmt=\".0f\")\n",
    "plt.title(\"Logistic Regression Confusion Matrix\",fontsize=18, color=\"b\")\n",
    "# plt.savefig(\"../Images/plots/log_reg_conf_matrix.jpeg\")\n",
    "plt.show()"
   ]
  },
  {
   "cell_type": "code",
   "execution_count": 13,
   "id": "8b261941-4a3a-4d8e-8c3a-36442b031e59",
   "metadata": {},
   "outputs": [
    {
     "name": "stdout",
     "output_type": "stream",
     "text": [
      "              precision    recall  f1-score   support\n",
      "\n",
      "           1       0.89      0.92      0.91     14889\n",
      "           2       0.92      0.89      0.90     14974\n",
      "\n",
      "    accuracy                           0.91     29863\n",
      "   macro avg       0.91      0.91      0.91     29863\n",
      "weighted avg       0.91      0.91      0.91     29863\n",
      "\n"
     ]
    }
   ],
   "source": [
    "y_preds = lr.predict(X_test)\n",
    "print(classification_report(y_test, y_preds))"
   ]
  },
  {
   "cell_type": "markdown",
   "id": "5a47c32a-a873-4f54-a355-068aa098ac4d",
   "metadata": {},
   "source": [
    "### Grid Search Cross Validation with Logistic Regression"
   ]
  },
  {
   "cell_type": "code",
   "execution_count": 14,
   "id": "aeeae842-49ef-43a0-8a86-9eda08900bba",
   "metadata": {},
   "outputs": [
    {
     "name": "stdout",
     "output_type": "stream",
     "text": [
      "Fitting 10 folds for each of 14 candidates, totalling 140 fits\n",
      "Optimized hyperparameters:  {'C': 0.001, 'penalty': 'l2'}\n",
      "accuracy:  0.9070581548880104\n"
     ]
    }
   ],
   "source": [
    "grid = {\"C\":np.logspace(-3,3,7),\"penalty\":[\"l1\",\"l2\"]}\n",
    "logreg = LogisticRegression(random_state=42)\n",
    "logreg_cv = GridSearchCV(logreg,\n",
    "                         grid,\n",
    "                         cv=10,\n",
    "                         n_jobs=-1,\n",
    "                         verbose=1,\n",
    "                        )\n",
    "logreg_cv.fit(X_train,y_train)\n",
    "\n",
    "print(\"Optimized hyperparameters: \",logreg_cv.best_params_)\n",
    "print(\"accuracy: \",logreg_cv.best_score_)"
   ]
  },
  {
   "cell_type": "code",
   "execution_count": 15,
   "id": "c0c1a152-8e80-48a8-a0a2-bb3aefbc4412",
   "metadata": {},
   "outputs": [
    {
     "name": "stdout",
     "output_type": "stream",
     "text": [
      "Logistic Regression F1 Score:  [0.90674794 0.90470226]\n",
      "Logistic Regression R2 Score:  0.6229417263907135\n"
     ]
    },
    {
     "data": {
      "image/png": "[encoded data removed]",
      "text/plain": [
       "<Figure size 432x288 with 2 Axes>"
      ]
     },
     "metadata": {
      "needs_background": "light"
     },
     "output_type": "display_data"
    }
   ],
   "source": [
    "print(\"Logistic Regression F1 Score: \", f1_score(y_test,logreg_cv.predict(X_test),average=None))\n",
    "print(\"Logistic Regression R2 Score: \", r2_score(y_test,logreg_cv.predict(X_test)))\n",
    "plt.figure()\n",
    "sns.heatmap(confusion_matrix(y_test, logreg_cv.predict(X_test)), annot=True, fmt=\".0f\")\n",
    "plt.title(\"Logistic Regression Confusion Matrix\",fontsize=18, color=\"b\")\n",
    "# plt.savefig(\"../Images/plots/log_reg_cv_conf_matrix.jpeg\")\n",
    "plt.show()"
   ]
  },
  {
   "cell_type": "code",
   "execution_count": 16,
   "id": "8df16f26-830f-469d-9ed1-924121bc0e37",
   "metadata": {},
   "outputs": [
    {
     "name": "stdout",
     "output_type": "stream",
     "text": [
      "              precision    recall  f1-score   support\n",
      "\n",
      "           1       0.89      0.92      0.91     14889\n",
      "           2       0.92      0.89      0.90     14974\n",
      "\n",
      "    accuracy                           0.91     29863\n",
      "   macro avg       0.91      0.91      0.91     29863\n",
      "weighted avg       0.91      0.91      0.91     29863\n",
      "\n"
     ]
    }
   ],
   "source": [
    "y_preds = logreg_cv.predict(X_test)\n",
    "print(classification_report(y_test, y_preds))"
   ]
  },
  {
   "cell_type": "code",
   "execution_count": 17,
   "id": "d20a2215-7698-4e5c-a4c2-c02551f3bbde",
   "metadata": {},
   "outputs": [],
   "source": [
    "## Save the model as a pickle in a file\n",
    "# joblib.dump(logreg_cv, '../Models/Logreg_cv.pkl')"
   ]
  },
  {
   "cell_type": "markdown",
   "id": "9a12b9e9-b8b6-4cbd-b3bf-5ec08b1793e8",
   "metadata": {},
   "source": [
    "## Gradient Boosting Classifier"
   ]
  },
  {
   "cell_type": "code",
   "execution_count": 18,
   "id": "218cd7c4-301a-4dc5-8ba8-76a8c5665e17",
   "metadata": {},
   "outputs": [
    {
     "name": "stdout",
     "output_type": "stream",
     "text": [
      "Gradient Boosting Classifier Accuracy:  0.9147774838428825\n"
     ]
    }
   ],
   "source": [
    "gb = GradientBoostingClassifier()\n",
    "gb.fit(X_train,y_train)\n",
    "print(\"Gradient Boosting Classifier Accuracy: \",gb.score(X_test,y_test))"
   ]
  },
  {
   "cell_type": "code",
   "execution_count": 19,
   "id": "1e5beb90-627d-4231-a86c-e7973227db7a",
   "metadata": {},
   "outputs": [
    {
     "name": "stdout",
     "output_type": "stream",
     "text": [
      "Gradient Boosting Classifier F1 Score:  [0.91743179 0.91194686]\n",
      "Gradient Boosting Classifier R2 Score:  0.6591071735930252\n"
     ]
    },
    {
     "data": {
      "image/png": "[encoded data removed]",
      "text/plain": [
       "<Figure size 432x288 with 2 Axes>"
      ]
     },
     "metadata": {
      "needs_background": "light"
     },
     "output_type": "display_data"
    }
   ],
   "source": [
    "print(\"Gradient Boosting Classifier F1 Score: \", f1_score(y_test,gb.predict(X_test),average=None))\n",
    "print(\"Gradient Boosting Classifier R2 Score: \", r2_score(y_test,gb.predict(X_test)))\n",
    "plt.figure()\n",
    "sns.heatmap(confusion_matrix(y_test, gb.predict(X_test)), annot=True, fmt=\".0f\")\n",
    "plt.title(\"Gradient Boosting Classifier Confusion Matrix\",fontsize=18, color=\"b\")\n",
    "# plt.savefig(\"../Images/plots/grad_boost_conf_matrix.jpeg\")\n",
    "plt.show()"
   ]
  },
  {
   "cell_type": "code",
   "execution_count": 20,
   "id": "2e7f66d8-02b0-403b-bc57-69d775d24ea0",
   "metadata": {},
   "outputs": [
    {
     "name": "stdout",
     "output_type": "stream",
     "text": [
      "              precision    recall  f1-score   support\n",
      "\n",
      "           1       0.89      0.95      0.92     14889\n",
      "           2       0.95      0.88      0.91     14974\n",
      "\n",
      "    accuracy                           0.91     29863\n",
      "   macro avg       0.92      0.91      0.91     29863\n",
      "weighted avg       0.92      0.91      0.91     29863\n",
      "\n"
     ]
    }
   ],
   "source": [
    "y_preds = gb.predict(X_test)\n",
    "print(classification_report(y_test, y_preds))"
   ]
  },
  {
   "cell_type": "code",
   "execution_count": 21,
   "id": "4f0cd1df-859e-44c6-85ee-f9fba1a6daac",
   "metadata": {},
   "outputs": [],
   "source": [
    "# # Save the model as a pickle in a file\n",
    "# joblib.dump(gb, '../Models/gradboostclassifier.pkl')"
   ]
  },
  {
   "cell_type": "markdown",
   "id": "7b800a25-bf00-4386-96a0-0fd271b7a7df",
   "metadata": {},
   "source": [
    "## XGBoost Classifier"
   ]
  },
  {
   "cell_type": "code",
   "execution_count": 22,
   "id": "68d2ad91-e16c-4d4d-a690-87496c842d9a",
   "metadata": {},
   "outputs": [
    {
     "name": "stdout",
     "output_type": "stream",
     "text": [
      "[17:22:55] WARNING: ..\\src\\learner.cc:1115: Starting in XGBoost 1.3.0, the default evaluation metric used with the objective 'binary:logistic' was changed from 'error' to 'logloss'. Explicitly set eval_metric if you'd like to restore the old behavior.\n",
      "XGB Classifier Accuracy:  0.9143086762883836\n"
     ]
    }
   ],
   "source": [
    "xgb = XGBClassifier()\n",
    "xgb.fit(X_train, y_train)\n",
    "print(\"XGB Classifier Accuracy: \",xgb.score(X_test,y_test))"
   ]
  },
  {
   "cell_type": "code",
   "execution_count": 23,
   "id": "3e33ec26-5b27-459d-aa66-5d3ac5a2cd7e",
   "metadata": {},
   "outputs": [
    {
     "name": "stdout",
     "output_type": "stream",
     "text": [
      "XGB Classifier F1 Score:  [0.91711741 0.9113029 ]\n",
      "XGB Classifier R2 Score:  0.657231928182535\n"
     ]
    },
    {
     "data": {
      "image/png": "[encoded data removed]",
      "text/plain": [
       "<Figure size 432x288 with 2 Axes>"
      ]
     },
     "metadata": {
      "needs_background": "light"
     },
     "output_type": "display_data"
    }
   ],
   "source": [
    "print(\"XGB Classifier F1 Score: \", f1_score(y_test,xgb.predict(X_test),average=None))\n",
    "print(\"XGB Classifier R2 Score: \", r2_score(y_test,xgb.predict(X_test)))\n",
    "plt.figure()\n",
    "sns.heatmap(confusion_matrix(y_test, xgb.predict(X_test)), annot=True, fmt=\".0f\")\n",
    "plt.title(\"XGB Classifier Confusion Matrix\",fontsize=18, color=\"b\")\n",
    "plt.savefig(\"../Images/plots/XGB_class_conf_matrix.jpeg\")\n",
    "plt.show()"
   ]
  },
  {
   "cell_type": "code",
   "execution_count": 24,
   "id": "9d0f7538-9066-49b6-8302-753f28c5bc7f",
   "metadata": {},
   "outputs": [
    {
     "name": "stdout",
     "output_type": "stream",
     "text": [
      "              precision    recall  f1-score   support\n",
      "\n",
      "           1       0.89      0.95      0.92     14889\n",
      "           2       0.95      0.88      0.91     14974\n",
      "\n",
      "    accuracy                           0.91     29863\n",
      "   macro avg       0.92      0.91      0.91     29863\n",
      "weighted avg       0.92      0.91      0.91     29863\n",
      "\n"
     ]
    }
   ],
   "source": [
    "y_preds = xgb.predict(X_test)\n",
    "print(classification_report(y_test, y_preds))"
   ]
  },
  {
   "cell_type": "code",
   "execution_count": 25,
   "id": "baba151d-8b15-42fb-bc9c-1a01819baf91",
   "metadata": {},
   "outputs": [],
   "source": [
    "# # Save the model as a pickle in a file\n",
    "# joblib.dump(xgb, '../Models/XGBclassifier.pkl')"
   ]
  },
  {
   "cell_type": "markdown",
   "id": "7f9ac3d9-e5ef-41a9-9586-99d7b10b1a93",
   "metadata": {
    "jp-MarkdownHeadingCollapsed": true,
    "tags": []
   },
   "source": [
    "### Hyperparamter Tuning with RandomizedSearchCV"
   ]
  },
  {
   "cell_type": "code",
   "execution_count": 26,
   "id": "1a63f6db-4c80-4a66-90aa-9bfcdad28daa",
   "metadata": {},
   "outputs": [],
   "source": [
    "# # Create a hyperparameter grid for LogisticRegression\n",
    "# logreg_grid = {\"C\": np.logspace(-4, 4, 50),\n",
    "#                \"penalty\" : ['l1', 'l2', 'none'],\n",
    "#                 \"solver\": [\"liblinear\", 'newton-cg']}\n",
    "\n",
    "# # Tune LogisticRegression\n",
    "# # Setup random hyperparameter search for LogisticRegression\n",
    "# rs_log_reg = RandomizedSearchCV(LogisticRegression(),\n",
    "#                                 param_distributions=logreg_grid,\n",
    "#                                 cv=5,\n",
    "#                                 n_iter=500,\n",
    "#                                 verbose=True,\n",
    "#                                 random_state=42)\n",
    "\n",
    "# # Fit random hyperparameter search model for LogisticRegression\n",
    "# rs_log_reg.fit(X_train, y_train)"
   ]
  },
  {
   "cell_type": "code",
   "execution_count": 27,
   "id": "92c6363d-b12d-4038-a76f-687796222df5",
   "metadata": {},
   "outputs": [],
   "source": [
    "# # Finding the best hyperparameter\n",
    "# rs_log_reg.best_params_"
   ]
  },
  {
   "cell_type": "code",
   "execution_count": 28,
   "id": "a6b20ffd-af86-4495-8b6f-f2837e6aeafe",
   "metadata": {},
   "outputs": [],
   "source": [
    "# rs_log_reg.score(X_test, y_test)"
   ]
  },
  {
   "cell_type": "code",
   "execution_count": 29,
   "id": "cd8e1437-eab3-457f-af87-e73a1f0c034f",
   "metadata": {},
   "outputs": [],
   "source": [
    "# # XGBoost\n",
    "# # n_jobs=-1 to allow run it on all cores\n",
    "# params = {\n",
    "#     'n_estimators': [100, 200, 500],\n",
    "#     'learning_rate': [0.01,0.05,0.1],\n",
    "#     'booster': ['gbtree', 'gblinear'],\n",
    "#     'gamma': [0, 0.5, 1],\n",
    "#     'reg_alpha': [0, 0.5, 1],\n",
    "#     'reg_lambda': [0.5, 1, 5],\n",
    "#     'base_score': [0.2, 0.5, 1]\n",
    "# }\n",
    "\n",
    "# # Set up the k-fold cross-validation\n",
    "# kfold = StratifiedKFold(n_splits=10, shuffle=True, random_state=42)\n",
    "\n",
    "# XGB_randomsearch = RandomizedSearchCV(XGBClassifier(), \n",
    "#                                       params,\n",
    "#                                       n_iter=150,\n",
    "#                                       n_jobs=-1, \n",
    "#                                       cv=kfold, \n",
    "#                                       verbose=True, \n",
    "#                                       scoring='roc_auc', \n",
    "#                                       random_state=42)\n",
    "\n",
    "# XGB_randomsearch.fit(X_train, y_train)\n",
    "\n",
    "# print('Best score:', XGB_randomsearch.best_score_)\n",
    "# print('Best score:', XGB_randomsearch.best_params_)"
   ]
  },
  {
   "cell_type": "markdown",
   "id": "2f979e03-955c-43fb-bdcc-86ea1b1cc306",
   "metadata": {
    "tags": []
   },
   "source": [
    "### GridSearchCV"
   ]
  },
  {
   "cell_type": "code",
   "execution_count": 30,
   "id": "60bffdcc-1a27-4361-993a-2dfc9e4cbc21",
   "metadata": {},
   "outputs": [],
   "source": [
    "# # Different hyperparameter grid for LogisticRegression\n",
    "# log_reg_grid = {\"penalty\":['l1', 'none', 'elasticnet'],\n",
    "#                 \"C\": np.logspace(-4, 4, 80),\n",
    "#                 \"solver\": [\"liblinear\", \"saga\", \"newton-cg\"]\n",
    "#                 }\n",
    "\n",
    "# # Setup grid hyperparameter search for LogisticRegression\n",
    "# gs_log_reg = GridSearchCV(LogisticRegression(),\n",
    "#                           param_grid=log_reg_grid,\n",
    "#                           cv=5,\n",
    "#                           verbose=True)\n",
    "\n",
    "# # Fit grid hyperparameter search model\n",
    "# gs_log_reg.fit(X_train, y_train)"
   ]
  },
  {
   "cell_type": "code",
   "execution_count": 31,
   "id": "5cb5d67a-9c51-4ef0-9ab7-6361e663b7eb",
   "metadata": {},
   "outputs": [],
   "source": [
    "# gs_log_reg.best_params_"
   ]
  },
  {
   "cell_type": "code",
   "execution_count": 32,
   "id": "53eedded-291a-418a-9a3b-b461a669997a",
   "metadata": {},
   "outputs": [],
   "source": [
    "# gs_log_reg.score(X_test, y_test)"
   ]
  },
  {
   "cell_type": "code",
   "execution_count": 33,
   "id": "678f5190-0a5e-46d9-8e62-b3f10e0f30d7",
   "metadata": {},
   "outputs": [],
   "source": [
    "# # XGBoost\n",
    "# # n_jobs=-1 to allow run it on all cores\n",
    "# params = {\n",
    "#     'n_estimators': [100, 200, 500],\n",
    "#     'learning_rate': [0.01,0.05,0.1],\n",
    "#     'booster': ['gbtree', 'gblinear'],\n",
    "#     'gamma': [0, 0.5, 1],\n",
    "#     'reg_alpha': [0, 0.5, 1],\n",
    "#     'reg_lambda': [0.5, 1, 5],\n",
    "#     'base_score': [0.2, 0.5, 1]\n",
    "# }\n",
    "\n",
    "# # Set up the k-fold cross-validation\n",
    "# kfold = StratifiedKFold(n_splits=10, shuffle=True, random_state=42)\n",
    "\n",
    "# XGB_gridsearch = GridSearchCV(XGBClassifier(), \n",
    "#                    params, \n",
    "#                    n_jobs=-1, \n",
    "#                    cv=kfold, \n",
    "#                    verbose=True)\n",
    "# XGB_gridsearch.fit(X_train, y_train)\n",
    "\n",
    "# print('Best score:', XGB_gridsearch.best_score_)\n",
    "# print('Best score:', XGB_gridsearch.best_params_)"
   ]
  },
  {
   "cell_type": "code",
   "execution_count": null,
   "id": "d147b81f-8a40-4c0a-aa97-c195bc2f148d",
   "metadata": {},
   "outputs": [],
   "source": []
  }
 ],
 "metadata": {
  "kernelspec": {
   "display_name": "Python 3 (ipykernel)",
   "language": "python",
   "name": "python3"
  },
  "language_info": {
   "codemirror_mode": {
    "name": "ipython",
    "version": 3
   },
   "file_extension": ".py",
   "mimetype": "text/x-python",
   "name": "python",
   "nbconvert_exporter": "python",
   "pygments_lexer": "ipython3",
   "version": "3.8.8"
  }
 },
 "nbformat": 4,
 "nbformat_minor": 5
}
